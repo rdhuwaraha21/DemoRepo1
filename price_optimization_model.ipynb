{
  "cells": [
    {
      "cell_type": "markdown",
      "metadata": {
        "id": "view-in-github",
        "colab_type": "text"
      },
      "source": [
        "<a href=\"https://colab.research.google.com/github/rdhuwaraha21/DemoRepo1/blob/main/price_optimization_model.ipynb\" target=\"_parent\"><img src=\"https://colab.research.google.com/assets/colab-badge.svg\" alt=\"Open In Colab\"/></a>"
      ]
    },
    {
      "cell_type": "markdown",
      "id": "v18kqI3DNlWR",
      "metadata": {
        "id": "v18kqI3DNlWR"
      },
      "source": [
        "##### Importing Required Libraries & Setting Up Matplotlib Inline for Plotting"
      ]
    },
    {
      "cell_type": "code",
      "execution_count": 1,
      "id": "2eda5399-5282-4055-9c38-7fcbdd7e8bba",
      "metadata": {
        "id": "2eda5399-5282-4055-9c38-7fcbdd7e8bba"
      },
      "outputs": [],
      "source": [
        "import pandas as pd\n",
        "import numpy as np\n",
        "import matplotlib.pyplot as plt\n",
        "import seaborn as sns\n",
        "%matplotlib inline"
      ]
    },
    {
      "cell_type": "markdown",
      "id": "OTdO7ogsN1ED",
      "metadata": {
        "id": "OTdO7ogsN1ED"
      },
      "source": [
        "##### Uploading CSV Using Google Colab File Upload\n",
        "\n"
      ]
    },
    {
      "cell_type": "code",
      "execution_count": 2,
      "id": "6A3x46O6cSw0",
      "metadata": {
        "colab": {
          "base_uri": "https://localhost:8080/",
          "height": 73
        },
        "id": "6A3x46O6cSw0",
        "outputId": "94492e3a-dd71-41c0-ccb1-6636d6e6fdb5"
      },
      "outputs": [
        {
          "output_type": "display_data",
          "data": {
            "text/plain": [
              "<IPython.core.display.HTML object>"
            ],
            "text/html": [
              "\n",
              "     <input type=\"file\" id=\"files-adbf8218-f152-4e0c-a6c5-9d32b9093f82\" name=\"files[]\" multiple disabled\n",
              "        style=\"border:none\" />\n",
              "     <output id=\"result-adbf8218-f152-4e0c-a6c5-9d32b9093f82\">\n",
              "      Upload widget is only available when the cell has been executed in the\n",
              "      current browser session. Please rerun this cell to enable.\n",
              "      </output>\n",
              "      <script>// Copyright 2017 Google LLC\n",
              "//\n",
              "// Licensed under the Apache License, Version 2.0 (the \"License\");\n",
              "// you may not use this file except in compliance with the License.\n",
              "// You may obtain a copy of the License at\n",
              "//\n",
              "//      http://www.apache.org/licenses/LICENSE-2.0\n",
              "//\n",
              "// Unless required by applicable law or agreed to in writing, software\n",
              "// distributed under the License is distributed on an \"AS IS\" BASIS,\n",
              "// WITHOUT WARRANTIES OR CONDITIONS OF ANY KIND, either express or implied.\n",
              "// See the License for the specific language governing permissions and\n",
              "// limitations under the License.\n",
              "\n",
              "/**\n",
              " * @fileoverview Helpers for google.colab Python module.\n",
              " */\n",
              "(function(scope) {\n",
              "function span(text, styleAttributes = {}) {\n",
              "  const element = document.createElement('span');\n",
              "  element.textContent = text;\n",
              "  for (const key of Object.keys(styleAttributes)) {\n",
              "    element.style[key] = styleAttributes[key];\n",
              "  }\n",
              "  return element;\n",
              "}\n",
              "\n",
              "// Max number of bytes which will be uploaded at a time.\n",
              "const MAX_PAYLOAD_SIZE = 100 * 1024;\n",
              "\n",
              "function _uploadFiles(inputId, outputId) {\n",
              "  const steps = uploadFilesStep(inputId, outputId);\n",
              "  const outputElement = document.getElementById(outputId);\n",
              "  // Cache steps on the outputElement to make it available for the next call\n",
              "  // to uploadFilesContinue from Python.\n",
              "  outputElement.steps = steps;\n",
              "\n",
              "  return _uploadFilesContinue(outputId);\n",
              "}\n",
              "\n",
              "// This is roughly an async generator (not supported in the browser yet),\n",
              "// where there are multiple asynchronous steps and the Python side is going\n",
              "// to poll for completion of each step.\n",
              "// This uses a Promise to block the python side on completion of each step,\n",
              "// then passes the result of the previous step as the input to the next step.\n",
              "function _uploadFilesContinue(outputId) {\n",
              "  const outputElement = document.getElementById(outputId);\n",
              "  const steps = outputElement.steps;\n",
              "\n",
              "  const next = steps.next(outputElement.lastPromiseValue);\n",
              "  return Promise.resolve(next.value.promise).then((value) => {\n",
              "    // Cache the last promise value to make it available to the next\n",
              "    // step of the generator.\n",
              "    outputElement.lastPromiseValue = value;\n",
              "    return next.value.response;\n",
              "  });\n",
              "}\n",
              "\n",
              "/**\n",
              " * Generator function which is called between each async step of the upload\n",
              " * process.\n",
              " * @param {string} inputId Element ID of the input file picker element.\n",
              " * @param {string} outputId Element ID of the output display.\n",
              " * @return {!Iterable<!Object>} Iterable of next steps.\n",
              " */\n",
              "function* uploadFilesStep(inputId, outputId) {\n",
              "  const inputElement = document.getElementById(inputId);\n",
              "  inputElement.disabled = false;\n",
              "\n",
              "  const outputElement = document.getElementById(outputId);\n",
              "  outputElement.innerHTML = '';\n",
              "\n",
              "  const pickedPromise = new Promise((resolve) => {\n",
              "    inputElement.addEventListener('change', (e) => {\n",
              "      resolve(e.target.files);\n",
              "    });\n",
              "  });\n",
              "\n",
              "  const cancel = document.createElement('button');\n",
              "  inputElement.parentElement.appendChild(cancel);\n",
              "  cancel.textContent = 'Cancel upload';\n",
              "  const cancelPromise = new Promise((resolve) => {\n",
              "    cancel.onclick = () => {\n",
              "      resolve(null);\n",
              "    };\n",
              "  });\n",
              "\n",
              "  // Wait for the user to pick the files.\n",
              "  const files = yield {\n",
              "    promise: Promise.race([pickedPromise, cancelPromise]),\n",
              "    response: {\n",
              "      action: 'starting',\n",
              "    }\n",
              "  };\n",
              "\n",
              "  cancel.remove();\n",
              "\n",
              "  // Disable the input element since further picks are not allowed.\n",
              "  inputElement.disabled = true;\n",
              "\n",
              "  if (!files) {\n",
              "    return {\n",
              "      response: {\n",
              "        action: 'complete',\n",
              "      }\n",
              "    };\n",
              "  }\n",
              "\n",
              "  for (const file of files) {\n",
              "    const li = document.createElement('li');\n",
              "    li.append(span(file.name, {fontWeight: 'bold'}));\n",
              "    li.append(span(\n",
              "        `(${file.type || 'n/a'}) - ${file.size} bytes, ` +\n",
              "        `last modified: ${\n",
              "            file.lastModifiedDate ? file.lastModifiedDate.toLocaleDateString() :\n",
              "                                    'n/a'} - `));\n",
              "    const percent = span('0% done');\n",
              "    li.appendChild(percent);\n",
              "\n",
              "    outputElement.appendChild(li);\n",
              "\n",
              "    const fileDataPromise = new Promise((resolve) => {\n",
              "      const reader = new FileReader();\n",
              "      reader.onload = (e) => {\n",
              "        resolve(e.target.result);\n",
              "      };\n",
              "      reader.readAsArrayBuffer(file);\n",
              "    });\n",
              "    // Wait for the data to be ready.\n",
              "    let fileData = yield {\n",
              "      promise: fileDataPromise,\n",
              "      response: {\n",
              "        action: 'continue',\n",
              "      }\n",
              "    };\n",
              "\n",
              "    // Use a chunked sending to avoid message size limits. See b/62115660.\n",
              "    let position = 0;\n",
              "    do {\n",
              "      const length = Math.min(fileData.byteLength - position, MAX_PAYLOAD_SIZE);\n",
              "      const chunk = new Uint8Array(fileData, position, length);\n",
              "      position += length;\n",
              "\n",
              "      const base64 = btoa(String.fromCharCode.apply(null, chunk));\n",
              "      yield {\n",
              "        response: {\n",
              "          action: 'append',\n",
              "          file: file.name,\n",
              "          data: base64,\n",
              "        },\n",
              "      };\n",
              "\n",
              "      let percentDone = fileData.byteLength === 0 ?\n",
              "          100 :\n",
              "          Math.round((position / fileData.byteLength) * 100);\n",
              "      percent.textContent = `${percentDone}% done`;\n",
              "\n",
              "    } while (position < fileData.byteLength);\n",
              "  }\n",
              "\n",
              "  // All done.\n",
              "  yield {\n",
              "    response: {\n",
              "      action: 'complete',\n",
              "    }\n",
              "  };\n",
              "}\n",
              "\n",
              "scope.google = scope.google || {};\n",
              "scope.google.colab = scope.google.colab || {};\n",
              "scope.google.colab._files = {\n",
              "  _uploadFiles,\n",
              "  _uploadFilesContinue,\n",
              "};\n",
              "})(self);\n",
              "</script> "
            ]
          },
          "metadata": {}
        },
        {
          "output_type": "stream",
          "name": "stdout",
          "text": [
            "Saving listings_full.csv to listings_full.csv\n"
          ]
        }
      ],
      "source": [
        "from google.colab import files\n",
        "uploaded = files.upload()"
      ]
    },
    {
      "cell_type": "markdown",
      "id": "KDvu3N-7ODaS",
      "metadata": {
        "id": "KDvu3N-7ODaS"
      },
      "source": [
        "##### Reading CSV into a DataFrame"
      ]
    },
    {
      "cell_type": "code",
      "execution_count": 3,
      "id": "c4280222-c34f-4468-9581-951f89fd7037",
      "metadata": {
        "colab": {
          "base_uri": "https://localhost:8080/",
          "height": 620
        },
        "id": "c4280222-c34f-4468-9581-951f89fd7037",
        "scrolled": true,
        "outputId": "89b7329d-e923-4886-c64a-8fe7e0a72001"
      },
      "outputs": [
        {
          "output_type": "execute_result",
          "data": {
            "text/plain": [
              "             id                                      listing_url  \\\n",
              "0  6.624170e+06             https://www.airbnb.com/rooms/6624170   \n",
              "1  8.837071e+06             https://www.airbnb.com/rooms/8837071   \n",
              "2  7.161070e+05              https://www.airbnb.com/rooms/716107   \n",
              "3  6.645390e+17  https://www.airbnb.com/rooms/664538756986273255   \n",
              "4  8.191077e+06             https://www.airbnb.com/rooms/8191077   \n",
              "\n",
              "      scrape_id last_scraped           source  \\\n",
              "0  2.024090e+13     9/5/2024  previous scrape   \n",
              "1  2.024090e+13     9/5/2024  previous scrape   \n",
              "2  2.024090e+13     9/5/2024  previous scrape   \n",
              "3  2.024090e+13     9/6/2024  previous scrape   \n",
              "4  2.024090e+13     9/5/2024  previous scrape   \n",
              "\n",
              "                                             name  \\\n",
              "0             Warm, cozy sunlighted downtown appt   \n",
              "1                   Cozy apartment in city center   \n",
              "2              Loft style home nearby city centre   \n",
              "3  Geweldige duurzame eco woonark op unieke plek!   \n",
              "4                               Old bar apartment   \n",
              "\n",
              "                                         description  \\\n",
              "0  2 room appt. 1.8 km from central station with ...   \n",
              "1  Located in Amsterdam's sweet spot. A stone's t...   \n",
              "2                                                NaN   \n",
              "3  This unique eco houseboat is located in the mo...   \n",
              "4  This just renovated apartment for 6 persons is...   \n",
              "\n",
              "                               neighborhood_overview  \\\n",
              "0                                                NaN   \n",
              "1                                      see the guide   \n",
              "2                                                NaN   \n",
              "3                                                NaN   \n",
              "4  Our apartment is situated in the centre of Ams...   \n",
              "\n",
              "                                         picture_url   host_id  ...  \\\n",
              "0  https://a0.muscache.com/pictures/df91da10-f7d4...  34670170  ...   \n",
              "1  https://a0.muscache.com/pictures/5fee12d4-61d0...  13034277  ...   \n",
              "2  https://a0.muscache.com/pictures/9927048/b367a...   3689867  ...   \n",
              "3  https://a0.muscache.com/pictures/miso/Hosting-...   7647768  ...   \n",
              "4  https://a0.muscache.com/pictures/miso/Hosting-...  43205475  ...   \n",
              "\n",
              "  review_scores_communication review_scores_location review_scores_value  \\\n",
              "0                        4.86                   4.56                4.65   \n",
              "1                         NaN                    NaN                 NaN   \n",
              "2                        4.83                   4.66                4.61   \n",
              "3                        5.00                   5.00                5.00   \n",
              "4                        4.79                   4.83                4.45   \n",
              "\n",
              "                    license instant_bookable calculated_host_listings_count  \\\n",
              "0  0363 3CF3 3233 3B24 6BEC                f                              1   \n",
              "1  0363 0C20 1768 FAAA 3556                f                              1   \n",
              "2  0363 0014 1E57 F097 81A5                f                              1   \n",
              "3  0363 468D A0A1 6595 5E39                f                              1   \n",
              "4                    Exempt                f                              1   \n",
              "\n",
              "  calculated_host_listings_count_entire_homes  \\\n",
              "0                                           1   \n",
              "1                                           1   \n",
              "2                                           1   \n",
              "3                                           1   \n",
              "4                                           0   \n",
              "\n",
              "  calculated_host_listings_count_private_rooms  \\\n",
              "0                                            0   \n",
              "1                                            0   \n",
              "2                                            0   \n",
              "3                                            0   \n",
              "4                                            1   \n",
              "\n",
              "  calculated_host_listings_count_shared_rooms reviews_per_month  \n",
              "0                                           0              0.38  \n",
              "1                                           0               NaN  \n",
              "2                                           0              1.21  \n",
              "3                                           0              0.04  \n",
              "4                                           0              2.41  \n",
              "\n",
              "[5 rows x 75 columns]"
            ],
            "text/html": [
              "\n",
              "  <div id=\"df-20d0770b-a5f7-4ab0-a2fa-eb4de6bfc14b\" class=\"colab-df-container\">\n",
              "    <div>\n",
              "<style scoped>\n",
              "    .dataframe tbody tr th:only-of-type {\n",
              "        vertical-align: middle;\n",
              "    }\n",
              "\n",
              "    .dataframe tbody tr th {\n",
              "        vertical-align: top;\n",
              "    }\n",
              "\n",
              "    .dataframe thead th {\n",
              "        text-align: right;\n",
              "    }\n",
              "</style>\n",
              "<table border=\"1\" class=\"dataframe\">\n",
              "  <thead>\n",
              "    <tr style=\"text-align: right;\">\n",
              "      <th></th>\n",
              "      <th>id</th>\n",
              "      <th>listing_url</th>\n",
              "      <th>scrape_id</th>\n",
              "      <th>last_scraped</th>\n",
              "      <th>source</th>\n",
              "      <th>name</th>\n",
              "      <th>description</th>\n",
              "      <th>neighborhood_overview</th>\n",
              "      <th>picture_url</th>\n",
              "      <th>host_id</th>\n",
              "      <th>...</th>\n",
              "      <th>review_scores_communication</th>\n",
              "      <th>review_scores_location</th>\n",
              "      <th>review_scores_value</th>\n",
              "      <th>license</th>\n",
              "      <th>instant_bookable</th>\n",
              "      <th>calculated_host_listings_count</th>\n",
              "      <th>calculated_host_listings_count_entire_homes</th>\n",
              "      <th>calculated_host_listings_count_private_rooms</th>\n",
              "      <th>calculated_host_listings_count_shared_rooms</th>\n",
              "      <th>reviews_per_month</th>\n",
              "    </tr>\n",
              "  </thead>\n",
              "  <tbody>\n",
              "    <tr>\n",
              "      <th>0</th>\n",
              "      <td>6.624170e+06</td>\n",
              "      <td>https://www.airbnb.com/rooms/6624170</td>\n",
              "      <td>2.024090e+13</td>\n",
              "      <td>9/5/2024</td>\n",
              "      <td>previous scrape</td>\n",
              "      <td>Warm, cozy sunlighted downtown appt</td>\n",
              "      <td>2 room appt. 1.8 km from central station with ...</td>\n",
              "      <td>NaN</td>\n",
              "      <td>https://a0.muscache.com/pictures/df91da10-f7d4...</td>\n",
              "      <td>34670170</td>\n",
              "      <td>...</td>\n",
              "      <td>4.86</td>\n",
              "      <td>4.56</td>\n",
              "      <td>4.65</td>\n",
              "      <td>0363 3CF3 3233 3B24 6BEC</td>\n",
              "      <td>f</td>\n",
              "      <td>1</td>\n",
              "      <td>1</td>\n",
              "      <td>0</td>\n",
              "      <td>0</td>\n",
              "      <td>0.38</td>\n",
              "    </tr>\n",
              "    <tr>\n",
              "      <th>1</th>\n",
              "      <td>8.837071e+06</td>\n",
              "      <td>https://www.airbnb.com/rooms/8837071</td>\n",
              "      <td>2.024090e+13</td>\n",
              "      <td>9/5/2024</td>\n",
              "      <td>previous scrape</td>\n",
              "      <td>Cozy apartment in city center</td>\n",
              "      <td>Located in Amsterdam's sweet spot. A stone's t...</td>\n",
              "      <td>see the guide</td>\n",
              "      <td>https://a0.muscache.com/pictures/5fee12d4-61d0...</td>\n",
              "      <td>13034277</td>\n",
              "      <td>...</td>\n",
              "      <td>NaN</td>\n",
              "      <td>NaN</td>\n",
              "      <td>NaN</td>\n",
              "      <td>0363 0C20 1768 FAAA 3556</td>\n",
              "      <td>f</td>\n",
              "      <td>1</td>\n",
              "      <td>1</td>\n",
              "      <td>0</td>\n",
              "      <td>0</td>\n",
              "      <td>NaN</td>\n",
              "    </tr>\n",
              "    <tr>\n",
              "      <th>2</th>\n",
              "      <td>7.161070e+05</td>\n",
              "      <td>https://www.airbnb.com/rooms/716107</td>\n",
              "      <td>2.024090e+13</td>\n",
              "      <td>9/5/2024</td>\n",
              "      <td>previous scrape</td>\n",
              "      <td>Loft style home nearby city centre</td>\n",
              "      <td>NaN</td>\n",
              "      <td>NaN</td>\n",
              "      <td>https://a0.muscache.com/pictures/9927048/b367a...</td>\n",
              "      <td>3689867</td>\n",
              "      <td>...</td>\n",
              "      <td>4.83</td>\n",
              "      <td>4.66</td>\n",
              "      <td>4.61</td>\n",
              "      <td>0363 0014 1E57 F097 81A5</td>\n",
              "      <td>f</td>\n",
              "      <td>1</td>\n",
              "      <td>1</td>\n",
              "      <td>0</td>\n",
              "      <td>0</td>\n",
              "      <td>1.21</td>\n",
              "    </tr>\n",
              "    <tr>\n",
              "      <th>3</th>\n",
              "      <td>6.645390e+17</td>\n",
              "      <td>https://www.airbnb.com/rooms/664538756986273255</td>\n",
              "      <td>2.024090e+13</td>\n",
              "      <td>9/6/2024</td>\n",
              "      <td>previous scrape</td>\n",
              "      <td>Geweldige duurzame eco woonark op unieke plek!</td>\n",
              "      <td>This unique eco houseboat is located in the mo...</td>\n",
              "      <td>NaN</td>\n",
              "      <td>https://a0.muscache.com/pictures/miso/Hosting-...</td>\n",
              "      <td>7647768</td>\n",
              "      <td>...</td>\n",
              "      <td>5.00</td>\n",
              "      <td>5.00</td>\n",
              "      <td>5.00</td>\n",
              "      <td>0363 468D A0A1 6595 5E39</td>\n",
              "      <td>f</td>\n",
              "      <td>1</td>\n",
              "      <td>1</td>\n",
              "      <td>0</td>\n",
              "      <td>0</td>\n",
              "      <td>0.04</td>\n",
              "    </tr>\n",
              "    <tr>\n",
              "      <th>4</th>\n",
              "      <td>8.191077e+06</td>\n",
              "      <td>https://www.airbnb.com/rooms/8191077</td>\n",
              "      <td>2.024090e+13</td>\n",
              "      <td>9/5/2024</td>\n",
              "      <td>previous scrape</td>\n",
              "      <td>Old bar apartment</td>\n",
              "      <td>This just renovated apartment for 6 persons is...</td>\n",
              "      <td>Our apartment is situated in the centre of Ams...</td>\n",
              "      <td>https://a0.muscache.com/pictures/miso/Hosting-...</td>\n",
              "      <td>43205475</td>\n",
              "      <td>...</td>\n",
              "      <td>4.79</td>\n",
              "      <td>4.83</td>\n",
              "      <td>4.45</td>\n",
              "      <td>Exempt</td>\n",
              "      <td>f</td>\n",
              "      <td>1</td>\n",
              "      <td>0</td>\n",
              "      <td>1</td>\n",
              "      <td>0</td>\n",
              "      <td>2.41</td>\n",
              "    </tr>\n",
              "  </tbody>\n",
              "</table>\n",
              "<p>5 rows × 75 columns</p>\n",
              "</div>\n",
              "    <div class=\"colab-df-buttons\">\n",
              "\n",
              "  <div class=\"colab-df-container\">\n",
              "    <button class=\"colab-df-convert\" onclick=\"convertToInteractive('df-20d0770b-a5f7-4ab0-a2fa-eb4de6bfc14b')\"\n",
              "            title=\"Convert this dataframe to an interactive table.\"\n",
              "            style=\"display:none;\">\n",
              "\n",
              "  <svg xmlns=\"http://www.w3.org/2000/svg\" height=\"24px\" viewBox=\"0 -960 960 960\">\n",
              "    <path d=\"M120-120v-720h720v720H120Zm60-500h600v-160H180v160Zm220 220h160v-160H400v160Zm0 220h160v-160H400v160ZM180-400h160v-160H180v160Zm440 0h160v-160H620v160ZM180-180h160v-160H180v160Zm440 0h160v-160H620v160Z\"/>\n",
              "  </svg>\n",
              "    </button>\n",
              "\n",
              "  <style>\n",
              "    .colab-df-container {\n",
              "      display:flex;\n",
              "      gap: 12px;\n",
              "    }\n",
              "\n",
              "    .colab-df-convert {\n",
              "      background-color: #E8F0FE;\n",
              "      border: none;\n",
              "      border-radius: 50%;\n",
              "      cursor: pointer;\n",
              "      display: none;\n",
              "      fill: #1967D2;\n",
              "      height: 32px;\n",
              "      padding: 0 0 0 0;\n",
              "      width: 32px;\n",
              "    }\n",
              "\n",
              "    .colab-df-convert:hover {\n",
              "      background-color: #E2EBFA;\n",
              "      box-shadow: 0px 1px 2px rgba(60, 64, 67, 0.3), 0px 1px 3px 1px rgba(60, 64, 67, 0.15);\n",
              "      fill: #174EA6;\n",
              "    }\n",
              "\n",
              "    .colab-df-buttons div {\n",
              "      margin-bottom: 4px;\n",
              "    }\n",
              "\n",
              "    [theme=dark] .colab-df-convert {\n",
              "      background-color: #3B4455;\n",
              "      fill: #D2E3FC;\n",
              "    }\n",
              "\n",
              "    [theme=dark] .colab-df-convert:hover {\n",
              "      background-color: #434B5C;\n",
              "      box-shadow: 0px 1px 3px 1px rgba(0, 0, 0, 0.15);\n",
              "      filter: drop-shadow(0px 1px 2px rgba(0, 0, 0, 0.3));\n",
              "      fill: #FFFFFF;\n",
              "    }\n",
              "  </style>\n",
              "\n",
              "    <script>\n",
              "      const buttonEl =\n",
              "        document.querySelector('#df-20d0770b-a5f7-4ab0-a2fa-eb4de6bfc14b button.colab-df-convert');\n",
              "      buttonEl.style.display =\n",
              "        google.colab.kernel.accessAllowed ? 'block' : 'none';\n",
              "\n",
              "      async function convertToInteractive(key) {\n",
              "        const element = document.querySelector('#df-20d0770b-a5f7-4ab0-a2fa-eb4de6bfc14b');\n",
              "        const dataTable =\n",
              "          await google.colab.kernel.invokeFunction('convertToInteractive',\n",
              "                                                    [key], {});\n",
              "        if (!dataTable) return;\n",
              "\n",
              "        const docLinkHtml = 'Like what you see? Visit the ' +\n",
              "          '<a target=\"_blank\" href=https://colab.research.google.com/notebooks/data_table.ipynb>data table notebook</a>'\n",
              "          + ' to learn more about interactive tables.';\n",
              "        element.innerHTML = '';\n",
              "        dataTable['output_type'] = 'display_data';\n",
              "        await google.colab.output.renderOutput(dataTable, element);\n",
              "        const docLink = document.createElement('div');\n",
              "        docLink.innerHTML = docLinkHtml;\n",
              "        element.appendChild(docLink);\n",
              "      }\n",
              "    </script>\n",
              "  </div>\n",
              "\n",
              "\n",
              "<div id=\"df-a860c118-49db-4938-a0bd-61db067b1883\">\n",
              "  <button class=\"colab-df-quickchart\" onclick=\"quickchart('df-a860c118-49db-4938-a0bd-61db067b1883')\"\n",
              "            title=\"Suggest charts\"\n",
              "            style=\"display:none;\">\n",
              "\n",
              "<svg xmlns=\"http://www.w3.org/2000/svg\" height=\"24px\"viewBox=\"0 0 24 24\"\n",
              "     width=\"24px\">\n",
              "    <g>\n",
              "        <path d=\"M19 3H5c-1.1 0-2 .9-2 2v14c0 1.1.9 2 2 2h14c1.1 0 2-.9 2-2V5c0-1.1-.9-2-2-2zM9 17H7v-7h2v7zm4 0h-2V7h2v10zm4 0h-2v-4h2v4z\"/>\n",
              "    </g>\n",
              "</svg>\n",
              "  </button>\n",
              "\n",
              "<style>\n",
              "  .colab-df-quickchart {\n",
              "      --bg-color: #E8F0FE;\n",
              "      --fill-color: #1967D2;\n",
              "      --hover-bg-color: #E2EBFA;\n",
              "      --hover-fill-color: #174EA6;\n",
              "      --disabled-fill-color: #AAA;\n",
              "      --disabled-bg-color: #DDD;\n",
              "  }\n",
              "\n",
              "  [theme=dark] .colab-df-quickchart {\n",
              "      --bg-color: #3B4455;\n",
              "      --fill-color: #D2E3FC;\n",
              "      --hover-bg-color: #434B5C;\n",
              "      --hover-fill-color: #FFFFFF;\n",
              "      --disabled-bg-color: #3B4455;\n",
              "      --disabled-fill-color: #666;\n",
              "  }\n",
              "\n",
              "  .colab-df-quickchart {\n",
              "    background-color: var(--bg-color);\n",
              "    border: none;\n",
              "    border-radius: 50%;\n",
              "    cursor: pointer;\n",
              "    display: none;\n",
              "    fill: var(--fill-color);\n",
              "    height: 32px;\n",
              "    padding: 0;\n",
              "    width: 32px;\n",
              "  }\n",
              "\n",
              "  .colab-df-quickchart:hover {\n",
              "    background-color: var(--hover-bg-color);\n",
              "    box-shadow: 0 1px 2px rgba(60, 64, 67, 0.3), 0 1px 3px 1px rgba(60, 64, 67, 0.15);\n",
              "    fill: var(--button-hover-fill-color);\n",
              "  }\n",
              "\n",
              "  .colab-df-quickchart-complete:disabled,\n",
              "  .colab-df-quickchart-complete:disabled:hover {\n",
              "    background-color: var(--disabled-bg-color);\n",
              "    fill: var(--disabled-fill-color);\n",
              "    box-shadow: none;\n",
              "  }\n",
              "\n",
              "  .colab-df-spinner {\n",
              "    border: 2px solid var(--fill-color);\n",
              "    border-color: transparent;\n",
              "    border-bottom-color: var(--fill-color);\n",
              "    animation:\n",
              "      spin 1s steps(1) infinite;\n",
              "  }\n",
              "\n",
              "  @keyframes spin {\n",
              "    0% {\n",
              "      border-color: transparent;\n",
              "      border-bottom-color: var(--fill-color);\n",
              "      border-left-color: var(--fill-color);\n",
              "    }\n",
              "    20% {\n",
              "      border-color: transparent;\n",
              "      border-left-color: var(--fill-color);\n",
              "      border-top-color: var(--fill-color);\n",
              "    }\n",
              "    30% {\n",
              "      border-color: transparent;\n",
              "      border-left-color: var(--fill-color);\n",
              "      border-top-color: var(--fill-color);\n",
              "      border-right-color: var(--fill-color);\n",
              "    }\n",
              "    40% {\n",
              "      border-color: transparent;\n",
              "      border-right-color: var(--fill-color);\n",
              "      border-top-color: var(--fill-color);\n",
              "    }\n",
              "    60% {\n",
              "      border-color: transparent;\n",
              "      border-right-color: var(--fill-color);\n",
              "    }\n",
              "    80% {\n",
              "      border-color: transparent;\n",
              "      border-right-color: var(--fill-color);\n",
              "      border-bottom-color: var(--fill-color);\n",
              "    }\n",
              "    90% {\n",
              "      border-color: transparent;\n",
              "      border-bottom-color: var(--fill-color);\n",
              "    }\n",
              "  }\n",
              "</style>\n",
              "\n",
              "  <script>\n",
              "    async function quickchart(key) {\n",
              "      const quickchartButtonEl =\n",
              "        document.querySelector('#' + key + ' button');\n",
              "      quickchartButtonEl.disabled = true;  // To prevent multiple clicks.\n",
              "      quickchartButtonEl.classList.add('colab-df-spinner');\n",
              "      try {\n",
              "        const charts = await google.colab.kernel.invokeFunction(\n",
              "            'suggestCharts', [key], {});\n",
              "      } catch (error) {\n",
              "        console.error('Error during call to suggestCharts:', error);\n",
              "      }\n",
              "      quickchartButtonEl.classList.remove('colab-df-spinner');\n",
              "      quickchartButtonEl.classList.add('colab-df-quickchart-complete');\n",
              "    }\n",
              "    (() => {\n",
              "      let quickchartButtonEl =\n",
              "        document.querySelector('#df-a860c118-49db-4938-a0bd-61db067b1883 button');\n",
              "      quickchartButtonEl.style.display =\n",
              "        google.colab.kernel.accessAllowed ? 'block' : 'none';\n",
              "    })();\n",
              "  </script>\n",
              "</div>\n",
              "\n",
              "    </div>\n",
              "  </div>\n"
            ],
            "application/vnd.google.colaboratory.intrinsic+json": {
              "type": "dataframe",
              "variable_name": "df"
            }
          },
          "metadata": {},
          "execution_count": 3
        }
      ],
      "source": [
        "df = pd.read_csv(\"listings_full.csv\")\n",
        "df.head()"
      ]
    },
    {
      "cell_type": "code",
      "execution_count": 4,
      "id": "8e6b288c-fe41-48fc-891c-23e5c33f1110",
      "metadata": {
        "colab": {
          "base_uri": "https://localhost:8080/"
        },
        "id": "8e6b288c-fe41-48fc-891c-23e5c33f1110",
        "scrolled": true,
        "outputId": "6193be4a-d697-4ef1-afd0-0e50fd63d0b0"
      },
      "outputs": [
        {
          "output_type": "stream",
          "name": "stdout",
          "text": [
            "<class 'pandas.core.frame.DataFrame'>\n",
            "RangeIndex: 9659 entries, 0 to 9658\n",
            "Data columns (total 75 columns):\n",
            " #   Column                                        Non-Null Count  Dtype  \n",
            "---  ------                                        --------------  -----  \n",
            " 0   id                                            9659 non-null   float64\n",
            " 1   listing_url                                   9659 non-null   object \n",
            " 2   scrape_id                                     9659 non-null   float64\n",
            " 3   last_scraped                                  9659 non-null   object \n",
            " 4   source                                        9659 non-null   object \n",
            " 5   name                                          9659 non-null   object \n",
            " 6   description                                   9310 non-null   object \n",
            " 7   neighborhood_overview                         5469 non-null   object \n",
            " 8   picture_url                                   9659 non-null   object \n",
            " 9   host_id                                       9659 non-null   int64  \n",
            " 10  host_url                                      9659 non-null   object \n",
            " 11  host_name                                     9659 non-null   object \n",
            " 12  host_since                                    9659 non-null   object \n",
            " 13  host_location                                 8547 non-null   object \n",
            " 14  host_about                                    5152 non-null   object \n",
            " 15  host_response_time                            6483 non-null   object \n",
            " 16  host_response_rate                            6483 non-null   object \n",
            " 17  host_acceptance_rate                          7835 non-null   object \n",
            " 18  host_is_superhost                             9549 non-null   object \n",
            " 19  host_thumbnail_url                            9659 non-null   object \n",
            " 20  host_picture_url                              9659 non-null   object \n",
            " 21  host_neighbourhood                            2912 non-null   object \n",
            " 22  host_listings_count                           9659 non-null   int64  \n",
            " 23  host_total_listings_count                     9659 non-null   int64  \n",
            " 24  host_verifications                            9659 non-null   object \n",
            " 25  host_has_profile_pic                          9659 non-null   object \n",
            " 26  host_identity_verified                        9659 non-null   object \n",
            " 27  neighbourhood                                 5469 non-null   object \n",
            " 28  neighbourhood_cleansed                        9659 non-null   object \n",
            " 29  neighbourhood_group_cleansed                  0 non-null      float64\n",
            " 30  latitude                                      9659 non-null   float64\n",
            " 31  longitude                                     9659 non-null   float64\n",
            " 32  property_type                                 9659 non-null   object \n",
            " 33  room_type                                     9659 non-null   object \n",
            " 34  accommodates                                  9659 non-null   int64  \n",
            " 35  bathrooms                                     5868 non-null   float64\n",
            " 36  bathrooms_text                                9649 non-null   object \n",
            " 37  bedrooms                                      9385 non-null   float64\n",
            " 38  beds                                          5843 non-null   float64\n",
            " 39  amenities                                     9659 non-null   object \n",
            " 40  price                                         5869 non-null   object \n",
            " 41  minimum_nights                                9659 non-null   int64  \n",
            " 42  maximum_nights                                9659 non-null   int64  \n",
            " 43  minimum_minimum_nights                        9658 non-null   float64\n",
            " 44  maximum_minimum_nights                        9658 non-null   float64\n",
            " 45  minimum_maximum_nights                        9658 non-null   float64\n",
            " 46  maximum_maximum_nights                        9658 non-null   float64\n",
            " 47  minimum_nights_avg_ntm                        9658 non-null   float64\n",
            " 48  maximum_nights_avg_ntm                        9658 non-null   float64\n",
            " 49  calendar_updated                              0 non-null      float64\n",
            " 50  has_availability                              9349 non-null   object \n",
            " 51  availability_30                               9659 non-null   int64  \n",
            " 52  availability_60                               9659 non-null   int64  \n",
            " 53  availability_90                               9659 non-null   int64  \n",
            " 54  availability_365                              9659 non-null   int64  \n",
            " 55  calendar_last_scraped                         9659 non-null   object \n",
            " 56  number_of_reviews                             9659 non-null   int64  \n",
            " 57  number_of_reviews_ltm                         9659 non-null   int64  \n",
            " 58  number_of_reviews_l30d                        9659 non-null   int64  \n",
            " 59  first_review                                  8632 non-null   object \n",
            " 60  last_review                                   8632 non-null   object \n",
            " 61  review_scores_rating                          8632 non-null   float64\n",
            " 62  review_scores_accuracy                        8632 non-null   float64\n",
            " 63  review_scores_cleanliness                     8631 non-null   float64\n",
            " 64  review_scores_checkin                         8632 non-null   float64\n",
            " 65  review_scores_communication                   8632 non-null   float64\n",
            " 66  review_scores_location                        8632 non-null   float64\n",
            " 67  review_scores_value                           8632 non-null   float64\n",
            " 68  license                                       9562 non-null   object \n",
            " 69  instant_bookable                              9659 non-null   object \n",
            " 70  calculated_host_listings_count                9659 non-null   int64  \n",
            " 71  calculated_host_listings_count_entire_homes   9659 non-null   int64  \n",
            " 72  calculated_host_listings_count_private_rooms  9659 non-null   int64  \n",
            " 73  calculated_host_listings_count_shared_rooms   9659 non-null   int64  \n",
            " 74  reviews_per_month                             8632 non-null   float64\n",
            "dtypes: float64(23), int64(17), object(35)\n",
            "memory usage: 5.5+ MB\n"
          ]
        }
      ],
      "source": [
        "pd.set_option('display.max_rows', None)   # To view full dataset\n",
        "df.info()"
      ]
    },
    {
      "cell_type": "markdown",
      "id": "5zY0ObUSOUOL",
      "metadata": {
        "id": "5zY0ObUSOUOL"
      },
      "source": [
        "##### Selecting the Columns to have"
      ]
    },
    {
      "cell_type": "code",
      "execution_count": 5,
      "id": "7db75dd3-8aca-42ce-a2d3-61ccb078103c",
      "metadata": {
        "colab": {
          "base_uri": "https://localhost:8080/",
          "height": 490
        },
        "id": "7db75dd3-8aca-42ce-a2d3-61ccb078103c",
        "scrolled": true,
        "outputId": "00d4c591-56eb-4153-fe28-3e9a2d7877df"
      },
      "outputs": [
        {
          "output_type": "execute_result",
          "data": {
            "text/plain": [
              "   neighbourhood_cleansed  latitude  longitude       property_type  \\\n",
              "0            Centrum-Oost  52.36842    4.92438  Entire rental unit   \n",
              "1  De Baarsjes - Oud-West  52.36455    4.87712  Entire rental unit   \n",
              "2  De Baarsjes - Oud-West  52.36462    4.86824  Entire rental unit   \n",
              "3               Oud-Noord  52.39394    4.90587           Houseboat   \n",
              "\n",
              "         room_type  bedrooms  accommodates bathrooms_text  beds  \\\n",
              "0  Entire home/apt       1.0             3         1 bath   NaN   \n",
              "1  Entire home/apt       1.0             2         1 bath   NaN   \n",
              "2  Entire home/apt       1.0             2         1 bath   NaN   \n",
              "3  Entire home/apt       2.0             3         1 bath   NaN   \n",
              "\n",
              "                                           amenities host_is_superhost  \\\n",
              "0  [\"Dishes and silverware\", \"Smoke alarm\", \"Hang...                 f   \n",
              "1  [\"Smoke alarm\", \"Essentials\", \"Iron\", \"Washer\"...                 f   \n",
              "2  [\"Smoke alarm\", \"Essentials\", \"Iron\", \"Host gr...                 f   \n",
              "3  [\"Paid parking on premises\", \"Smoke alarm\", \"C...                 f   \n",
              "\n",
              "  host_identity_verified  host_total_listings_count  availability_30  \\\n",
              "0                      t                          2                0   \n",
              "1                      f                          1                0   \n",
              "2                      t                          1                0   \n",
              "3                      t                          4                0   \n",
              "\n",
              "   availability_60  availability_90  availability_365  number_of_reviews  \\\n",
              "0                0                0                 0                 43   \n",
              "1                0                0                 0                  0   \n",
              "2                0                0                 1                172   \n",
              "3                0                0                 0                  1   \n",
              "\n",
              "   review_scores_rating  review_scores_accuracy  review_scores_cleanliness  \\\n",
              "0                  4.84                    4.83                       4.86   \n",
              "1                   NaN                     NaN                        NaN   \n",
              "2                  4.71                    4.82                       4.64   \n",
              "3                  5.00                    5.00                       5.00   \n",
              "\n",
              "   review_scores_checkin  review_scores_communication  review_scores_location  \\\n",
              "0                   4.83                         4.86                    4.56   \n",
              "1                    NaN                          NaN                     NaN   \n",
              "2                   4.78                         4.83                    4.66   \n",
              "3                   5.00                         5.00                    5.00   \n",
              "\n",
              "   review_scores_value  reviews_per_month instant_bookable  minimum_nights  \\\n",
              "0                 4.65               0.38                f               2   \n",
              "1                  NaN                NaN                f               2   \n",
              "2                 4.61               1.21                f               3   \n",
              "3                 5.00               0.04                f               3   \n",
              "\n",
              "   maximum_nights price  \n",
              "0            1125   NaN  \n",
              "1            1125   NaN  \n",
              "2            1125   NaN  \n",
              "3              21   NaN  "
            ],
            "text/html": [
              "\n",
              "  <div id=\"df-a2d7eea6-2c89-496c-896f-a53733657e41\" class=\"colab-df-container\">\n",
              "    <div>\n",
              "<style scoped>\n",
              "    .dataframe tbody tr th:only-of-type {\n",
              "        vertical-align: middle;\n",
              "    }\n",
              "\n",
              "    .dataframe tbody tr th {\n",
              "        vertical-align: top;\n",
              "    }\n",
              "\n",
              "    .dataframe thead th {\n",
              "        text-align: right;\n",
              "    }\n",
              "</style>\n",
              "<table border=\"1\" class=\"dataframe\">\n",
              "  <thead>\n",
              "    <tr style=\"text-align: right;\">\n",
              "      <th></th>\n",
              "      <th>neighbourhood_cleansed</th>\n",
              "      <th>latitude</th>\n",
              "      <th>longitude</th>\n",
              "      <th>property_type</th>\n",
              "      <th>room_type</th>\n",
              "      <th>bedrooms</th>\n",
              "      <th>accommodates</th>\n",
              "      <th>bathrooms_text</th>\n",
              "      <th>beds</th>\n",
              "      <th>amenities</th>\n",
              "      <th>host_is_superhost</th>\n",
              "      <th>host_identity_verified</th>\n",
              "      <th>host_total_listings_count</th>\n",
              "      <th>availability_30</th>\n",
              "      <th>availability_60</th>\n",
              "      <th>availability_90</th>\n",
              "      <th>availability_365</th>\n",
              "      <th>number_of_reviews</th>\n",
              "      <th>review_scores_rating</th>\n",
              "      <th>review_scores_accuracy</th>\n",
              "      <th>review_scores_cleanliness</th>\n",
              "      <th>review_scores_checkin</th>\n",
              "      <th>review_scores_communication</th>\n",
              "      <th>review_scores_location</th>\n",
              "      <th>review_scores_value</th>\n",
              "      <th>reviews_per_month</th>\n",
              "      <th>instant_bookable</th>\n",
              "      <th>minimum_nights</th>\n",
              "      <th>maximum_nights</th>\n",
              "      <th>price</th>\n",
              "    </tr>\n",
              "  </thead>\n",
              "  <tbody>\n",
              "    <tr>\n",
              "      <th>0</th>\n",
              "      <td>Centrum-Oost</td>\n",
              "      <td>52.36842</td>\n",
              "      <td>4.92438</td>\n",
              "      <td>Entire rental unit</td>\n",
              "      <td>Entire home/apt</td>\n",
              "      <td>1.0</td>\n",
              "      <td>3</td>\n",
              "      <td>1 bath</td>\n",
              "      <td>NaN</td>\n",
              "      <td>[\"Dishes and silverware\", \"Smoke alarm\", \"Hang...</td>\n",
              "      <td>f</td>\n",
              "      <td>t</td>\n",
              "      <td>2</td>\n",
              "      <td>0</td>\n",
              "      <td>0</td>\n",
              "      <td>0</td>\n",
              "      <td>0</td>\n",
              "      <td>43</td>\n",
              "      <td>4.84</td>\n",
              "      <td>4.83</td>\n",
              "      <td>4.86</td>\n",
              "      <td>4.83</td>\n",
              "      <td>4.86</td>\n",
              "      <td>4.56</td>\n",
              "      <td>4.65</td>\n",
              "      <td>0.38</td>\n",
              "      <td>f</td>\n",
              "      <td>2</td>\n",
              "      <td>1125</td>\n",
              "      <td>NaN</td>\n",
              "    </tr>\n",
              "    <tr>\n",
              "      <th>1</th>\n",
              "      <td>De Baarsjes - Oud-West</td>\n",
              "      <td>52.36455</td>\n",
              "      <td>4.87712</td>\n",
              "      <td>Entire rental unit</td>\n",
              "      <td>Entire home/apt</td>\n",
              "      <td>1.0</td>\n",
              "      <td>2</td>\n",
              "      <td>1 bath</td>\n",
              "      <td>NaN</td>\n",
              "      <td>[\"Smoke alarm\", \"Essentials\", \"Iron\", \"Washer\"...</td>\n",
              "      <td>f</td>\n",
              "      <td>f</td>\n",
              "      <td>1</td>\n",
              "      <td>0</td>\n",
              "      <td>0</td>\n",
              "      <td>0</td>\n",
              "      <td>0</td>\n",
              "      <td>0</td>\n",
              "      <td>NaN</td>\n",
              "      <td>NaN</td>\n",
              "      <td>NaN</td>\n",
              "      <td>NaN</td>\n",
              "      <td>NaN</td>\n",
              "      <td>NaN</td>\n",
              "      <td>NaN</td>\n",
              "      <td>NaN</td>\n",
              "      <td>f</td>\n",
              "      <td>2</td>\n",
              "      <td>1125</td>\n",
              "      <td>NaN</td>\n",
              "    </tr>\n",
              "    <tr>\n",
              "      <th>2</th>\n",
              "      <td>De Baarsjes - Oud-West</td>\n",
              "      <td>52.36462</td>\n",
              "      <td>4.86824</td>\n",
              "      <td>Entire rental unit</td>\n",
              "      <td>Entire home/apt</td>\n",
              "      <td>1.0</td>\n",
              "      <td>2</td>\n",
              "      <td>1 bath</td>\n",
              "      <td>NaN</td>\n",
              "      <td>[\"Smoke alarm\", \"Essentials\", \"Iron\", \"Host gr...</td>\n",
              "      <td>f</td>\n",
              "      <td>t</td>\n",
              "      <td>1</td>\n",
              "      <td>0</td>\n",
              "      <td>0</td>\n",
              "      <td>0</td>\n",
              "      <td>1</td>\n",
              "      <td>172</td>\n",
              "      <td>4.71</td>\n",
              "      <td>4.82</td>\n",
              "      <td>4.64</td>\n",
              "      <td>4.78</td>\n",
              "      <td>4.83</td>\n",
              "      <td>4.66</td>\n",
              "      <td>4.61</td>\n",
              "      <td>1.21</td>\n",
              "      <td>f</td>\n",
              "      <td>3</td>\n",
              "      <td>1125</td>\n",
              "      <td>NaN</td>\n",
              "    </tr>\n",
              "    <tr>\n",
              "      <th>3</th>\n",
              "      <td>Oud-Noord</td>\n",
              "      <td>52.39394</td>\n",
              "      <td>4.90587</td>\n",
              "      <td>Houseboat</td>\n",
              "      <td>Entire home/apt</td>\n",
              "      <td>2.0</td>\n",
              "      <td>3</td>\n",
              "      <td>1 bath</td>\n",
              "      <td>NaN</td>\n",
              "      <td>[\"Paid parking on premises\", \"Smoke alarm\", \"C...</td>\n",
              "      <td>f</td>\n",
              "      <td>t</td>\n",
              "      <td>4</td>\n",
              "      <td>0</td>\n",
              "      <td>0</td>\n",
              "      <td>0</td>\n",
              "      <td>0</td>\n",
              "      <td>1</td>\n",
              "      <td>5.00</td>\n",
              "      <td>5.00</td>\n",
              "      <td>5.00</td>\n",
              "      <td>5.00</td>\n",
              "      <td>5.00</td>\n",
              "      <td>5.00</td>\n",
              "      <td>5.00</td>\n",
              "      <td>0.04</td>\n",
              "      <td>f</td>\n",
              "      <td>3</td>\n",
              "      <td>21</td>\n",
              "      <td>NaN</td>\n",
              "    </tr>\n",
              "  </tbody>\n",
              "</table>\n",
              "</div>\n",
              "    <div class=\"colab-df-buttons\">\n",
              "\n",
              "  <div class=\"colab-df-container\">\n",
              "    <button class=\"colab-df-convert\" onclick=\"convertToInteractive('df-a2d7eea6-2c89-496c-896f-a53733657e41')\"\n",
              "            title=\"Convert this dataframe to an interactive table.\"\n",
              "            style=\"display:none;\">\n",
              "\n",
              "  <svg xmlns=\"http://www.w3.org/2000/svg\" height=\"24px\" viewBox=\"0 -960 960 960\">\n",
              "    <path d=\"M120-120v-720h720v720H120Zm60-500h600v-160H180v160Zm220 220h160v-160H400v160Zm0 220h160v-160H400v160ZM180-400h160v-160H180v160Zm440 0h160v-160H620v160ZM180-180h160v-160H180v160Zm440 0h160v-160H620v160Z\"/>\n",
              "  </svg>\n",
              "    </button>\n",
              "\n",
              "  <style>\n",
              "    .colab-df-container {\n",
              "      display:flex;\n",
              "      gap: 12px;\n",
              "    }\n",
              "\n",
              "    .colab-df-convert {\n",
              "      background-color: #E8F0FE;\n",
              "      border: none;\n",
              "      border-radius: 50%;\n",
              "      cursor: pointer;\n",
              "      display: none;\n",
              "      fill: #1967D2;\n",
              "      height: 32px;\n",
              "      padding: 0 0 0 0;\n",
              "      width: 32px;\n",
              "    }\n",
              "\n",
              "    .colab-df-convert:hover {\n",
              "      background-color: #E2EBFA;\n",
              "      box-shadow: 0px 1px 2px rgba(60, 64, 67, 0.3), 0px 1px 3px 1px rgba(60, 64, 67, 0.15);\n",
              "      fill: #174EA6;\n",
              "    }\n",
              "\n",
              "    .colab-df-buttons div {\n",
              "      margin-bottom: 4px;\n",
              "    }\n",
              "\n",
              "    [theme=dark] .colab-df-convert {\n",
              "      background-color: #3B4455;\n",
              "      fill: #D2E3FC;\n",
              "    }\n",
              "\n",
              "    [theme=dark] .colab-df-convert:hover {\n",
              "      background-color: #434B5C;\n",
              "      box-shadow: 0px 1px 3px 1px rgba(0, 0, 0, 0.15);\n",
              "      filter: drop-shadow(0px 1px 2px rgba(0, 0, 0, 0.3));\n",
              "      fill: #FFFFFF;\n",
              "    }\n",
              "  </style>\n",
              "\n",
              "    <script>\n",
              "      const buttonEl =\n",
              "        document.querySelector('#df-a2d7eea6-2c89-496c-896f-a53733657e41 button.colab-df-convert');\n",
              "      buttonEl.style.display =\n",
              "        google.colab.kernel.accessAllowed ? 'block' : 'none';\n",
              "\n",
              "      async function convertToInteractive(key) {\n",
              "        const element = document.querySelector('#df-a2d7eea6-2c89-496c-896f-a53733657e41');\n",
              "        const dataTable =\n",
              "          await google.colab.kernel.invokeFunction('convertToInteractive',\n",
              "                                                    [key], {});\n",
              "        if (!dataTable) return;\n",
              "\n",
              "        const docLinkHtml = 'Like what you see? Visit the ' +\n",
              "          '<a target=\"_blank\" href=https://colab.research.google.com/notebooks/data_table.ipynb>data table notebook</a>'\n",
              "          + ' to learn more about interactive tables.';\n",
              "        element.innerHTML = '';\n",
              "        dataTable['output_type'] = 'display_data';\n",
              "        await google.colab.output.renderOutput(dataTable, element);\n",
              "        const docLink = document.createElement('div');\n",
              "        docLink.innerHTML = docLinkHtml;\n",
              "        element.appendChild(docLink);\n",
              "      }\n",
              "    </script>\n",
              "  </div>\n",
              "\n",
              "\n",
              "<div id=\"df-107b84ca-27e0-4ad0-827b-7afbc625186f\">\n",
              "  <button class=\"colab-df-quickchart\" onclick=\"quickchart('df-107b84ca-27e0-4ad0-827b-7afbc625186f')\"\n",
              "            title=\"Suggest charts\"\n",
              "            style=\"display:none;\">\n",
              "\n",
              "<svg xmlns=\"http://www.w3.org/2000/svg\" height=\"24px\"viewBox=\"0 0 24 24\"\n",
              "     width=\"24px\">\n",
              "    <g>\n",
              "        <path d=\"M19 3H5c-1.1 0-2 .9-2 2v14c0 1.1.9 2 2 2h14c1.1 0 2-.9 2-2V5c0-1.1-.9-2-2-2zM9 17H7v-7h2v7zm4 0h-2V7h2v10zm4 0h-2v-4h2v4z\"/>\n",
              "    </g>\n",
              "</svg>\n",
              "  </button>\n",
              "\n",
              "<style>\n",
              "  .colab-df-quickchart {\n",
              "      --bg-color: #E8F0FE;\n",
              "      --fill-color: #1967D2;\n",
              "      --hover-bg-color: #E2EBFA;\n",
              "      --hover-fill-color: #174EA6;\n",
              "      --disabled-fill-color: #AAA;\n",
              "      --disabled-bg-color: #DDD;\n",
              "  }\n",
              "\n",
              "  [theme=dark] .colab-df-quickchart {\n",
              "      --bg-color: #3B4455;\n",
              "      --fill-color: #D2E3FC;\n",
              "      --hover-bg-color: #434B5C;\n",
              "      --hover-fill-color: #FFFFFF;\n",
              "      --disabled-bg-color: #3B4455;\n",
              "      --disabled-fill-color: #666;\n",
              "  }\n",
              "\n",
              "  .colab-df-quickchart {\n",
              "    background-color: var(--bg-color);\n",
              "    border: none;\n",
              "    border-radius: 50%;\n",
              "    cursor: pointer;\n",
              "    display: none;\n",
              "    fill: var(--fill-color);\n",
              "    height: 32px;\n",
              "    padding: 0;\n",
              "    width: 32px;\n",
              "  }\n",
              "\n",
              "  .colab-df-quickchart:hover {\n",
              "    background-color: var(--hover-bg-color);\n",
              "    box-shadow: 0 1px 2px rgba(60, 64, 67, 0.3), 0 1px 3px 1px rgba(60, 64, 67, 0.15);\n",
              "    fill: var(--button-hover-fill-color);\n",
              "  }\n",
              "\n",
              "  .colab-df-quickchart-complete:disabled,\n",
              "  .colab-df-quickchart-complete:disabled:hover {\n",
              "    background-color: var(--disabled-bg-color);\n",
              "    fill: var(--disabled-fill-color);\n",
              "    box-shadow: none;\n",
              "  }\n",
              "\n",
              "  .colab-df-spinner {\n",
              "    border: 2px solid var(--fill-color);\n",
              "    border-color: transparent;\n",
              "    border-bottom-color: var(--fill-color);\n",
              "    animation:\n",
              "      spin 1s steps(1) infinite;\n",
              "  }\n",
              "\n",
              "  @keyframes spin {\n",
              "    0% {\n",
              "      border-color: transparent;\n",
              "      border-bottom-color: var(--fill-color);\n",
              "      border-left-color: var(--fill-color);\n",
              "    }\n",
              "    20% {\n",
              "      border-color: transparent;\n",
              "      border-left-color: var(--fill-color);\n",
              "      border-top-color: var(--fill-color);\n",
              "    }\n",
              "    30% {\n",
              "      border-color: transparent;\n",
              "      border-left-color: var(--fill-color);\n",
              "      border-top-color: var(--fill-color);\n",
              "      border-right-color: var(--fill-color);\n",
              "    }\n",
              "    40% {\n",
              "      border-color: transparent;\n",
              "      border-right-color: var(--fill-color);\n",
              "      border-top-color: var(--fill-color);\n",
              "    }\n",
              "    60% {\n",
              "      border-color: transparent;\n",
              "      border-right-color: var(--fill-color);\n",
              "    }\n",
              "    80% {\n",
              "      border-color: transparent;\n",
              "      border-right-color: var(--fill-color);\n",
              "      border-bottom-color: var(--fill-color);\n",
              "    }\n",
              "    90% {\n",
              "      border-color: transparent;\n",
              "      border-bottom-color: var(--fill-color);\n",
              "    }\n",
              "  }\n",
              "</style>\n",
              "\n",
              "  <script>\n",
              "    async function quickchart(key) {\n",
              "      const quickchartButtonEl =\n",
              "        document.querySelector('#' + key + ' button');\n",
              "      quickchartButtonEl.disabled = true;  // To prevent multiple clicks.\n",
              "      quickchartButtonEl.classList.add('colab-df-spinner');\n",
              "      try {\n",
              "        const charts = await google.colab.kernel.invokeFunction(\n",
              "            'suggestCharts', [key], {});\n",
              "      } catch (error) {\n",
              "        console.error('Error during call to suggestCharts:', error);\n",
              "      }\n",
              "      quickchartButtonEl.classList.remove('colab-df-spinner');\n",
              "      quickchartButtonEl.classList.add('colab-df-quickchart-complete');\n",
              "    }\n",
              "    (() => {\n",
              "      let quickchartButtonEl =\n",
              "        document.querySelector('#df-107b84ca-27e0-4ad0-827b-7afbc625186f button');\n",
              "      quickchartButtonEl.style.display =\n",
              "        google.colab.kernel.accessAllowed ? 'block' : 'none';\n",
              "    })();\n",
              "  </script>\n",
              "</div>\n",
              "\n",
              "    </div>\n",
              "  </div>\n"
            ],
            "application/vnd.google.colaboratory.intrinsic+json": {
              "type": "dataframe",
              "variable_name": "df_copy"
            }
          },
          "metadata": {},
          "execution_count": 5
        }
      ],
      "source": [
        "pd.set_option('display.max_columns', None)\n",
        "columns_to_keep = [\n",
        "    'neighbourhood_cleansed', 'latitude', 'longitude', 'property_type', 'room_type', 'bedrooms',\n",
        "    'accommodates', 'bathrooms_text', 'beds','amenities', 'host_is_superhost', 'host_identity_verified',\n",
        "    'host_total_listings_count', 'availability_30', 'availability_60', 'availability_90', 'availability_365',\n",
        "    'number_of_reviews', 'review_scores_rating','review_scores_accuracy',\n",
        "    'review_scores_cleanliness', 'review_scores_checkin', 'review_scores_communication', 'review_scores_location',\n",
        "    'review_scores_value', 'reviews_per_month', 'instant_bookable','minimum_nights', 'maximum_nights', 'price']\n",
        "df_copy = df[columns_to_keep]\n",
        "df_copy.head(4)\n"
      ]
    },
    {
      "cell_type": "markdown",
      "id": "L-fBppzpOgJC",
      "metadata": {
        "id": "L-fBppzpOgJC"
      },
      "source": [
        "#### Data Inspection"
      ]
    },
    {
      "cell_type": "code",
      "execution_count": null,
      "id": "8555a9a1-e662-4b8b-89e7-54bdc359ea73",
      "metadata": {
        "colab": {
          "background_save": true
        },
        "id": "8555a9a1-e662-4b8b-89e7-54bdc359ea73"
      },
      "outputs": [],
      "source": [
        "df_copy.shape"
      ]
    },
    {
      "cell_type": "markdown",
      "id": "JIKnJ1pOO3na",
      "metadata": {
        "id": "JIKnJ1pOO3na"
      },
      "source": [
        "##### Summary of Numerical Columns"
      ]
    },
    {
      "cell_type": "code",
      "execution_count": null,
      "id": "e72b530b-866d-4ec3-8811-1f50389a20d5",
      "metadata": {
        "colab": {
          "background_save": true
        },
        "id": "e72b530b-866d-4ec3-8811-1f50389a20d5",
        "scrolled": true
      },
      "outputs": [],
      "source": [
        "df_copy.describe()"
      ]
    },
    {
      "cell_type": "markdown",
      "id": "U-5cbTAiPOjg",
      "metadata": {
        "id": "U-5cbTAiPOjg"
      },
      "source": [
        "##### Count of Missing Values"
      ]
    },
    {
      "cell_type": "code",
      "execution_count": null,
      "id": "56cbee79-9362-4811-b6ff-681ab6a07515",
      "metadata": {
        "colab": {
          "background_save": true
        },
        "id": "56cbee79-9362-4811-b6ff-681ab6a07515",
        "scrolled": true
      },
      "outputs": [],
      "source": [
        "df_copy.isnull().sum()"
      ]
    },
    {
      "cell_type": "markdown",
      "id": "u0-IBJPAPl0w",
      "metadata": {
        "id": "u0-IBJPAPl0w"
      },
      "source": [
        "#### Duplicate Data Handling"
      ]
    },
    {
      "cell_type": "code",
      "execution_count": null,
      "id": "3dedb577-541c-42d3-b99f-90103b7a60cc",
      "metadata": {
        "colab": {
          "background_save": true
        },
        "id": "3dedb577-541c-42d3-b99f-90103b7a60cc",
        "scrolled": true
      },
      "outputs": [],
      "source": [
        "df_copy[df_copy.duplicated()]"
      ]
    },
    {
      "cell_type": "code",
      "execution_count": null,
      "id": "e72e33ea-6597-404d-be8c-e191c68da87a",
      "metadata": {
        "colab": {
          "background_save": true
        },
        "id": "e72e33ea-6597-404d-be8c-e191c68da87a"
      },
      "outputs": [],
      "source": [
        "df_copy = df_copy.drop_duplicates(keep = \"first\")"
      ]
    },
    {
      "cell_type": "markdown",
      "id": "wRkBsK-XPvVy",
      "metadata": {
        "id": "wRkBsK-XPvVy"
      },
      "source": [
        "##### Feature Type Identification"
      ]
    },
    {
      "cell_type": "code",
      "execution_count": null,
      "id": "0dcbe6c9-a673-463d-8187-264ced3f999e",
      "metadata": {
        "colab": {
          "background_save": true
        },
        "id": "0dcbe6c9-a673-463d-8187-264ced3f999e",
        "scrolled": true
      },
      "outputs": [],
      "source": [
        "numeric_features = [feature for feature in df_copy.columns if df_copy[feature].dtype != 'O']\n",
        "categorical_features = [feature for feature in df_copy.columns if df_copy[feature].dtype == 'O']\n",
        "\n",
        "\n",
        "print('We have {} numerical features : {}'.format(len(numeric_features), numeric_features))\n",
        "print('\\nWe have {} categorical features : {}'.format(len(categorical_features), categorical_features))"
      ]
    },
    {
      "cell_type": "markdown",
      "id": "La1PNT2eP2Co",
      "metadata": {
        "id": "La1PNT2eP2Co"
      },
      "source": [
        "##### Analyzing Unique Values in Categorical Columns\n",
        "\n"
      ]
    },
    {
      "cell_type": "code",
      "execution_count": null,
      "id": "400f0c35-8ec7-4fb1-90a3-89f75a079b0b",
      "metadata": {
        "colab": {
          "background_save": true
        },
        "id": "400f0c35-8ec7-4fb1-90a3-89f75a079b0b",
        "scrolled": true
      },
      "outputs": [],
      "source": [
        "for col in categorical_features:\n",
        "    unique_values = df_copy[col].unique()\n",
        "    count_unique = df_copy[col].nunique()\n",
        "    print(f\"Unique values in '{col}': {unique_values}\")\n",
        "    print(f\"Number of unique values in '{col}': {count_unique}\\n\")"
      ]
    },
    {
      "cell_type": "markdown",
      "id": "f67551c5-12f0-4bfb-a9a4-8b85eca3b8bb",
      "metadata": {
        "id": "f67551c5-12f0-4bfb-a9a4-8b85eca3b8bb"
      },
      "source": [
        "# Handling Missing Values & Outliers"
      ]
    },
    {
      "cell_type": "markdown",
      "id": "ca6f0bd8-898b-4cd2-8c02-619b38588c1e",
      "metadata": {
        "id": "ca6f0bd8-898b-4cd2-8c02-619b38588c1e"
      },
      "source": [
        "## Price\n",
        "- Handling missing values and dtype changing"
      ]
    },
    {
      "cell_type": "markdown",
      "id": "c5a763c8-0f68-473f-98bb-d45ae8914ae6",
      "metadata": {
        "id": "c5a763c8-0f68-473f-98bb-d45ae8914ae6"
      },
      "source": [
        "In this dataset, the price column is missing for over 3,000 rows out of a total of 9,659. When building a predictive model, it's generally better to remove rows with missing target values like price. Keeping them could lead to complications and inaccuracies during model training."
      ]
    },
    {
      "cell_type": "code",
      "execution_count": null,
      "id": "a0acd4e5-6d77-49f3-bdf5-a18b280d3fa2",
      "metadata": {
        "colab": {
          "background_save": true
        },
        "id": "a0acd4e5-6d77-49f3-bdf5-a18b280d3fa2"
      },
      "outputs": [],
      "source": [
        "df_copy = df_copy.dropna(subset=['price'])\n",
        "print(f\"Number of rows after dropping NaN values in 'price': {len(df_copy)}\")"
      ]
    },
    {
      "cell_type": "code",
      "execution_count": null,
      "id": "ab6bb2a7-7da2-4fd1-8eb7-2cbeab11f3e6",
      "metadata": {
        "colab": {
          "background_save": true
        },
        "id": "ab6bb2a7-7da2-4fd1-8eb7-2cbeab11f3e6",
        "scrolled": true
      },
      "outputs": [],
      "source": [
        "df_copy.isnull().sum()"
      ]
    },
    {
      "cell_type": "markdown",
      "id": "ayGF6Uruq8wl",
      "metadata": {
        "id": "ayGF6Uruq8wl"
      },
      "source": [
        "The price values were stored as strings with $ and , symbols, making them unusable for calculations or modeling. We cleaned and converted them to float type for numerical analysis."
      ]
    },
    {
      "cell_type": "code",
      "execution_count": null,
      "id": "6f334145-2720-47d2-8cbb-c57ed64dad0e",
      "metadata": {
        "colab": {
          "background_save": true
        },
        "id": "6f334145-2720-47d2-8cbb-c57ed64dad0e",
        "scrolled": true
      },
      "outputs": [],
      "source": [
        "#$ sign and , replacing\n",
        "df_copy['price'] = df_copy['price'].str.replace('$', '').str.replace(',', '') .str.strip().astype(float)\n",
        "print(df_copy['price'].head())"
      ]
    },
    {
      "cell_type": "code",
      "execution_count": null,
      "id": "17e7a744-b118-4855-a723-cc6368d1cdcb",
      "metadata": {
        "colab": {
          "background_save": true
        },
        "id": "17e7a744-b118-4855-a723-cc6368d1cdcb"
      },
      "outputs": [],
      "source": [
        "numeric_features = [feature for feature in df_copy.columns if df_copy[feature].dtype != 'O']\n",
        "categorical_features = [feature for feature in df_copy.columns if df_copy[feature].dtype == 'O']\n",
        "\n",
        "# print columns\n",
        "print('We have {} numerical features'.format(len(numeric_features)))\n",
        "print('\\nWe have {} categorical features'.format(len(categorical_features)))"
      ]
    },
    {
      "cell_type": "markdown",
      "id": "NpOgMdMPrSEu",
      "metadata": {
        "id": "NpOgMdMPrSEu"
      },
      "source": [
        "Below step gives us insight into the distribution and frequency of different prices. It helps identify outliers and unrealistic values that might affect the analysis or model performance."
      ]
    },
    {
      "cell_type": "code",
      "execution_count": null,
      "id": "d04f41b9-3d1e-4c8e-9428-4b013065c9d8",
      "metadata": {
        "colab": {
          "background_save": true
        },
        "id": "d04f41b9-3d1e-4c8e-9428-4b013065c9d8",
        "scrolled": true
      },
      "outputs": [],
      "source": [
        "price_counts = df_copy['price'].value_counts()\n",
        "\n",
        "price_counts_df = price_counts.reset_index()\n",
        "price_counts_df.columns = ['Price', 'Count']\n",
        "\n",
        "price_counts_sorted = price_counts_df.sort_values(by='Price', ascending=False)\n",
        "\n",
        "print(price_counts_sorted)"
      ]
    },
    {
      "cell_type": "markdown",
      "id": "Oyl1FGZZrbcl",
      "metadata": {
        "id": "Oyl1FGZZrbcl"
      },
      "source": [
        "To reduce the impact of outlier prices (e.g., listings above $3000), we applied a cutoff. These extreme values can skew the distribution and reduce model accuracy, especially in price prediction tasks."
      ]
    },
    {
      "cell_type": "code",
      "execution_count": null,
      "id": "00addcfe-075a-41f9-b246-235a6313d934",
      "metadata": {
        "colab": {
          "background_save": true
        },
        "id": "00addcfe-075a-41f9-b246-235a6313d934",
        "scrolled": true
      },
      "outputs": [],
      "source": [
        "threshold = 1000\n",
        "df_copy = df_copy[df_copy['price'] <= threshold]\n",
        "df_copy.head()"
      ]
    },
    {
      "cell_type": "markdown",
      "id": "sRoku3nvuBtt",
      "metadata": {
        "id": "sRoku3nvuBtt"
      },
      "source": [
        "#### Visualizing Cleaned Price Distribution"
      ]
    },
    {
      "cell_type": "markdown",
      "id": "qPWYdiD2uFC2",
      "metadata": {
        "id": "qPWYdiD2uFC2"
      },
      "source": [
        "##### 1. Histogram – To See Overall Price Distribution"
      ]
    },
    {
      "cell_type": "code",
      "execution_count": null,
      "id": "fw0Vb-I8rqtu",
      "metadata": {
        "colab": {
          "background_save": true
        },
        "id": "fw0Vb-I8rqtu"
      },
      "outputs": [],
      "source": [
        "plt.figure(figsize=(10, 5))\n",
        "sns.histplot(df_copy['price'], bins=50, kde=True)\n",
        "plt.title(\"Price Distribution (After Cleaning)\", fontsize=14)\n",
        "plt.xlabel(\"Price\")\n",
        "plt.ylabel(\"Count\")\n",
        "plt.show()\n"
      ]
    },
    {
      "cell_type": "markdown",
      "id": "EBhv9JMfsywj",
      "metadata": {
        "id": "EBhv9JMfsywj"
      },
      "source": [
        "- The histogram shows that the majority of Airbnb listings are priced between 50 and 300.\n",
        "-The distribution is right-skewed, meaning a small number of listings have much higher prices (closer to 1000 or even up to 3000).\n",
        "-This confirms that while most listings are affordable, some luxury or premium listings still exist in the dataset.\n",
        "-The 3000 threshold helped reduce extreme outliers, but a few mild outliers are still visible on the far right, which is typical in real-world pricing data.\n",
        "-The peak around $150–$250 indicates the most common price range."
      ]
    },
    {
      "cell_type": "markdown",
      "id": "sv5Iak-juNQy",
      "metadata": {
        "id": "sv5Iak-juNQy"
      },
      "source": [
        "##### 2. Boxplot – To Detect Remaining Outliers Visually"
      ]
    },
    {
      "cell_type": "code",
      "execution_count": null,
      "id": "3BkWWe8Vt7my",
      "metadata": {
        "colab": {
          "background_save": true
        },
        "id": "3BkWWe8Vt7my"
      },
      "outputs": [],
      "source": [
        "plt.figure(figsize=(10, 2))\n",
        "sns.boxplot(x=df_copy['price'])\n",
        "plt.title(\"Boxplot of Price (After Cleaning)\", fontsize=14)\n",
        "plt.xlabel(\"Price\")\n",
        "plt.show()\n"
      ]
    },
    {
      "cell_type": "markdown",
      "id": "KzS70GH1uihM",
      "metadata": {
        "id": "KzS70GH1uihM"
      },
      "source": [
        "- The boxplot reveals that while most Airbnb listings fall below 500, there are many outliers beyond this range, extending up to 3000.\n",
        "- The box represents the interquartile range (IQR)—the middle 50% of listings—mostly between 100 and 300.\n",
        "- The horizontal line inside the box is the median price, showing where half the listings are cheaper and half are more expensive.\n",
        "- The dots beyond the whiskers are outliers, indicating higher-priced listings that are much less frequent.\n",
        "- Even after applying the $3000 threshold, the data remains right-skewed, which is typical in real-world pricing."
      ]
    },
    {
      "cell_type": "markdown",
      "id": "5d37ed60-0b62-48b4-a50d-ff1eda06145c",
      "metadata": {
        "id": "5d37ed60-0b62-48b4-a50d-ff1eda06145c"
      },
      "source": [
        "## Review scores"
      ]
    },
    {
      "cell_type": "markdown",
      "id": "0c45b71a-3dcb-4565-b9b7-1ed18cdc4722",
      "metadata": {
        "id": "0c45b71a-3dcb-4565-b9b7-1ed18cdc4722"
      },
      "source": [
        "When a group of related columns, like the review_scores_*, have the same missing entries, it's crucial to evaluate whether the missingness is systematic (e.g., some hosts never received any reviews) or random. Here's how to handle this:"
      ]
    },
    {
      "cell_type": "code",
      "execution_count": null,
      "id": "2a15ee11-e98d-4e1d-a609-f7092feb8117",
      "metadata": {
        "colab": {
          "background_save": true
        },
        "id": "2a15ee11-e98d-4e1d-a609-f7092feb8117"
      },
      "outputs": [],
      "source": [
        "print(df_copy.columns)\n"
      ]
    },
    {
      "cell_type": "markdown",
      "id": "nnNQBz8IvfJA",
      "metadata": {
        "id": "nnNQBz8IvfJA"
      },
      "source": [
        "#####  1: Understanding the Pattern of Missing Review Scores"
      ]
    },
    {
      "cell_type": "code",
      "execution_count": null,
      "id": "2f0c7c37-43c1-41ac-8a94-d6ba606f912d",
      "metadata": {
        "colab": {
          "background_save": true
        },
        "id": "2f0c7c37-43c1-41ac-8a94-d6ba606f912d"
      },
      "outputs": [],
      "source": [
        "print(df_copy[df_copy['number_of_reviews'] == 0]['review_scores_rating'].isnull().all())\n"
      ]
    },
    {
      "cell_type": "markdown",
      "id": "544f515a-5488-4e6e-a88e-5777a44c231f",
      "metadata": {
        "id": "544f515a-5488-4e6e-a88e-5777a44c231f"
      },
      "source": [
        "- it confirms that all missing values in the review_scores_* columns are systematically tied to listings with number_of_reviews == 0. These are likely listings that have never received any reviews.\n",
        "- Since these rows represent listings with no reviews, you can impute the review_scores_* columns with a default value, such as 0, to explicitly indicate \"no reviews available.\" This prevents these rows from being excluded while ensuring the model interprets them correctly.\n",
        "- The missing values in reviews_per_month are systematically tied to listings where number_of_reviews is 0. This makes sense because if a listing has no reviews, it cannot have a valid reviews_per_month value."
      ]
    },
    {
      "cell_type": "markdown",
      "id": "S0ZzvkZcvozZ",
      "metadata": {
        "id": "S0ZzvkZcvozZ"
      },
      "source": [
        "##### 2: Imputing Missing Review Scores with Median"
      ]
    },
    {
      "cell_type": "code",
      "execution_count": null,
      "id": "dc5de51b-fe3c-493d-8d64-99b312cf2c59",
      "metadata": {
        "colab": {
          "background_save": true
        },
        "id": "dc5de51b-fe3c-493d-8d64-99b312cf2c59",
        "scrolled": true
      },
      "outputs": [],
      "source": [
        "# Define columns for imputation\n",
        "review_score_columns = [\n",
        "    'review_scores_rating', 'review_scores_accuracy', 'review_scores_cleanliness',\n",
        "    'review_scores_checkin', 'review_scores_communication', 'review_scores_location',\n",
        "    'review_scores_value', 'reviews_per_month'\n",
        "]\n",
        "\n",
        "# Impute missing values with median\n",
        "for col in review_score_columns:\n",
        "    df_copy[col] = df_copy[col].fillna(df_copy[col].median())\n",
        "\n",
        "# Verify that missing values are filled\n",
        "print(df_copy[review_score_columns].isnull().sum())\n"
      ]
    },
    {
      "cell_type": "markdown",
      "id": "wT7wjdIsvxnP",
      "metadata": {
        "id": "wT7wjdIsvxnP"
      },
      "source": [
        "- We used the median to fill missing values for all review score-related columns.\n",
        "- Median is a robust measure that handles skewed data better than the mean.\n",
        "- This approach keeps those rows usable for analysis while ensuring models interpret them correctly.\n",
        "- It’s especially helpful when modeling, as dropping these rows would result in significant data loss."
      ]
    },
    {
      "cell_type": "code",
      "execution_count": null,
      "id": "f035c7dc-8138-4cc4-9f9f-b1f1f76d2e3a",
      "metadata": {
        "colab": {
          "background_save": true
        },
        "id": "f035c7dc-8138-4cc4-9f9f-b1f1f76d2e3a",
        "scrolled": true
      },
      "outputs": [],
      "source": [
        "df_copy.isnull().sum()  # Verification"
      ]
    },
    {
      "cell_type": "markdown",
      "id": "vbs7vr5nwkln",
      "metadata": {
        "id": "vbs7vr5nwkln"
      },
      "source": [
        "# Imputation and Distribution Analysis for Remaining Features"
      ]
    },
    {
      "cell_type": "markdown",
      "id": "ab5b0a60-98b2-42ff-9766-280a56ffd766",
      "metadata": {
        "id": "ab5b0a60-98b2-42ff-9766-280a56ffd766"
      },
      "source": [
        "## Imputation and Distribution Analysis for Remaining Features"
      ]
    },
    {
      "cell_type": "markdown",
      "id": "d7914286-d351-4681-bdd1-d01d7884a3da",
      "metadata": {
        "id": "d7914286-d351-4681-bdd1-d01d7884a3da"
      },
      "source": [
        "- finding the relationship between beds and other features like accommodates, room_type, and bedrooms is a sound approach before imputing missing values. Correlation analysis is one part of this process, but you might also need grouping and analysis to better understand patterns in the data."
      ]
    },
    {
      "cell_type": "markdown",
      "id": "zoepBh1IxDOP",
      "metadata": {
        "id": "zoepBh1IxDOP"
      },
      "source": [
        "#### 1: Imputing Missing Values in 'beds' Using Correlation-Based Grouping\n",
        "\n"
      ]
    },
    {
      "cell_type": "code",
      "execution_count": null,
      "id": "e3874819-1912-4260-a5e3-8c57d08ccc9b",
      "metadata": {
        "colab": {
          "background_save": true
        },
        "id": "e3874819-1912-4260-a5e3-8c57d08ccc9b"
      },
      "outputs": [],
      "source": [
        "correlation = df_copy[['beds', 'accommodates', 'bedrooms']].corr()\n",
        "print(correlation)"
      ]
    },
    {
      "cell_type": "markdown",
      "id": "b054e576-832a-489a-8c38-b059b9f7b178",
      "metadata": {
        "id": "b054e576-832a-489a-8c38-b059b9f7b178"
      },
      "source": [
        "- A strong positive correlation between beds and accommodates (0.78).\n",
        "- A moderate to strong positive correlation between beds and bedrooms (0.69).\n",
        "- A strong positive correlation between accommodates and bedrooms (0.75)."
      ]
    },
    {
      "cell_type": "code",
      "execution_count": null,
      "id": "89cf3c70-a040-4afa-9c0b-8282297dc1f8",
      "metadata": {
        "colab": {
          "background_save": true
        },
        "id": "89cf3c70-a040-4afa-9c0b-8282297dc1f8"
      },
      "outputs": [],
      "source": [
        "# Fill missing values in 'beds' based on median of groups\n",
        "df_copy['beds'] = df_copy['beds'].fillna(df_copy.groupby(['accommodates', 'bedrooms'])['beds'].transform('median'))\n"
      ]
    },
    {
      "cell_type": "markdown",
      "id": "7f0401a1-59e1-4c1d-9938-cf4118e05449",
      "metadata": {
        "id": "7f0401a1-59e1-4c1d-9938-cf4118e05449"
      },
      "source": [
        "1. Bedrooms (Numerical):\n",
        "- Since bedrooms is a numeric variable, you can use a central tendency measure like the median to impute missing values. The median is less affected by outliers and provides a stable central value.\n",
        "2. Bathrooms_text (Categorical):\n",
        "- The bathrooms_text column is categorical. Usually, you can impute missing categorical values with the mode (the most frequent category).\n",
        "If possible, consider converting bathrooms_text into a numerical feature (e.g., extracting the number of bathrooms) before imputation. Otherwise, just use the mode.\n",
        "3. Host_is_superhost (Binary):\n",
        "- host_is_superhost is a binary column (often t/f or True/False).\n",
        "For binary columns, the most common approach is to fill missing values with the mode. If the majority of hosts are not superhosts, the mode is likely False (or f). This maintains the most common status in your data."
      ]
    },
    {
      "cell_type": "markdown",
      "id": "a779RZMxw4Mq",
      "metadata": {
        "id": "a779RZMxw4Mq"
      },
      "source": [
        "#### 2: Filling Other Columns Based on Data Type"
      ]
    },
    {
      "cell_type": "code",
      "execution_count": null,
      "id": "c03606cf-76e2-4938-9c12-5a42f4af403b",
      "metadata": {
        "colab": {
          "background_save": true
        },
        "id": "c03606cf-76e2-4938-9c12-5a42f4af403b"
      },
      "outputs": [],
      "source": [
        "# bedrooms (numeric)\n",
        "df_copy['bedrooms'] = df_copy['bedrooms'].fillna(df_copy['bedrooms'].median())\n",
        "\n",
        "# bathrooms_text (categorical)\n",
        "df_copy['bathrooms_text'] = df_copy['bathrooms_text'].fillna(df_copy['bathrooms_text'].mode()[0])\n",
        "\n",
        "# host_is_superhost (binary)\n",
        "df_copy['host_is_superhost'] = df_copy['host_is_superhost'].fillna(df_copy['host_is_superhost'].mode()[0])\n"
      ]
    },
    {
      "cell_type": "code",
      "execution_count": null,
      "id": "cd93c7e3-4d00-4e6b-a735-1c76df928589",
      "metadata": {
        "colab": {
          "background_save": true
        },
        "id": "cd93c7e3-4d00-4e6b-a735-1c76df928589",
        "scrolled": true
      },
      "outputs": [],
      "source": [
        "df_copy.isnull().sum()   # Verify"
      ]
    },
    {
      "cell_type": "markdown",
      "id": "yjc7ZsA-x2ox",
      "metadata": {
        "id": "yjc7ZsA-x2ox"
      },
      "source": [
        "## Distribution Analysis of Categorical Features"
      ]
    },
    {
      "cell_type": "code",
      "execution_count": null,
      "id": "002f76df-ff2b-4deb-ae9f-fb3d5719486b",
      "metadata": {
        "colab": {
          "background_save": true
        },
        "id": "002f76df-ff2b-4deb-ae9f-fb3d5719486b",
        "scrolled": true
      },
      "outputs": [],
      "source": [
        "# Exclude 'amenities' from categorical_features since it has >9000\n",
        "categorical_features = [col for col in categorical_features if col != 'amenities']\n",
        "\n",
        "for col in categorical_features:\n",
        "    print(f\"Proportions for column '{col}':\")\n",
        "    print(df_copy[col].value_counts(normalize=True) * 100)\n",
        "    print('---------------------------')\n"
      ]
    },
    {
      "cell_type": "markdown",
      "id": "00BCjBtox9wJ",
      "metadata": {
        "id": "00BCjBtox9wJ"
      },
      "source": [
        "- The 'amenities' column was excluded from this proportion analysis due to its high cardinality and complex string-based format, which requires separate preprocessing (e.g., parsing and vectorization).\n"
      ]
    },
    {
      "cell_type": "markdown",
      "id": "PCgGF8Z5yKdx",
      "metadata": {
        "id": "PCgGF8Z5yKdx"
      },
      "source": [
        "`neighbourhood_cleansed`:\n",
        "\n",
        "The top 3 neighborhoods—De Baarsjes - Oud-West, Centrum-West, and De Pijp - Rivierenbuurt—account for over 40% of all listings.\n",
        "\n",
        "`property_type`:\n",
        "\n",
        "Over 38% of listings are Entire rental unit. Top 3 types cover a large share, while many niche types occur < 1% — these may be grouped as \"Other\" if needed.\n",
        "\n",
        "`room_type`:\n",
        "\n",
        "Majority (~75%) are Entire home/apt. Private room is next most common. This distribution may impact pricing and review scores significantly.\n",
        "\n",
        "`bathrooms_text`:\n",
        "\n",
        "Highly diverse. Most listings (~49%) have 1 bath, followed by 1.5 baths and 1 private bath. Consider simplifying this column (e.g., converting to number of bathrooms).\n",
        "\n",
        "``host_is_superhost``:\n",
        "\n",
        "About 77% of hosts are not superhosts (f), and 23% are. Useful as a binary classification feature.\n",
        "\n",
        "``host_identity_verified``:\n",
        "\n",
        "Almost all hosts (~98%) are verified. Since this is highly imbalanced, it may have low predictive power unless you're modeling trust.\n",
        "\n",
        "``instant_bookable``:\n",
        "\n",
        "About 81% are not instant bookable. This may reflect host behavior or listing type, and can influence guest booking preferences."
      ]
    },
    {
      "cell_type": "markdown",
      "id": "3FYr8ibgziKF",
      "metadata": {
        "id": "3FYr8ibgziKF"
      },
      "source": [
        "### Univariate Distribution Analysis of Numerical Features"
      ]
    },
    {
      "cell_type": "code",
      "execution_count": null,
      "id": "8693a7c4-64c6-416d-af17-a8d61aa85c56",
      "metadata": {
        "colab": {
          "background_save": true
        },
        "id": "8693a7c4-64c6-416d-af17-a8d61aa85c56",
        "scrolled": true
      },
      "outputs": [],
      "source": [
        "## Proportion of count data on numerical columns\n",
        "import math\n",
        "\n",
        "num_features = len(numeric_features)\n",
        "cols = 3\n",
        "rows = math.ceil(num_features / cols)\n",
        "\n",
        "plt.figure(figsize=(15, rows * 4))\n",
        "plt.suptitle('Univariate Analysis of Numerical Features', fontsize=20, fontweight='bold', alpha=0.8, y=1.0)\n",
        "\n",
        "for i, feature in enumerate(numeric_features):\n",
        "    plt.subplot(rows, cols, i + 1)\n",
        "    sns.kdeplot(x=df_copy[feature], fill=True, color='r')\n",
        "    plt.xlabel(feature)\n",
        "\n",
        "plt.tight_layout(rect=[0, 0, 1, 0.96])\n",
        "plt.show()\n"
      ]
    },
    {
      "cell_type": "markdown",
      "id": "yCzQsryd0IJU",
      "metadata": {
        "id": "yCzQsryd0IJU"
      },
      "source": [
        "####The KDE plots reveal various distribution patterns in the numerical features:\n",
        "\n",
        "- Location features (``latitude``, ``longitude``) show bell-shaped (normal) distributions centered around Amsterdam coordinates.\n",
        "\n",
        "- Room characteristics (``bedrooms``, ``accommodates``, ``beds``) are highly right-skewed, with most listings offering smaller units.\n",
        "\n",
        "- Host features (``host_total_listings_count``) are heavily skewed, indicating a few hosts manage many properties.\n",
        "\n",
        "- Availability fields (``availability_30``, ``60``, ``90``, ``365``) show multimodal or exponential-like patterns.\n",
        "\n",
        "- Review score features like review_scores_rating, accuracy, cleanliness, etc., are left-skewed (``clustered near 5``), showing most users leave high ratings.\n",
        "\n",
        "- Engagement metrics (``reviews_per_month``, ``number_of_reviews``) are extremely right-skewed, with most listings receiving few or no reviews.\n",
        "\n",
        "- Booking restrictions (minimum_nights, maximum_nights) also show wide dispersion and right skewness, hinting at some extreme outliers.\n",
        "\n",
        "#### These insights help determine:\n",
        "\n",
        "- Whether transformations (e.g., log, Box-Cox) are needed.\n",
        "\n",
        "- Which features might need outlier treatment or binning.\n",
        "\n",
        "- Which ones are already normally distributed and ready for modeling."
      ]
    },
    {
      "cell_type": "markdown",
      "id": "e4d0e228-0ffd-45c5-8e4d-6d712425639d",
      "metadata": {
        "id": "e4d0e228-0ffd-45c5-8e4d-6d712425639d"
      },
      "source": [
        "## Handling and Encoding Amenities Data"
      ]
    },
    {
      "cell_type": "markdown",
      "id": "suxStE4X1HSm",
      "metadata": {
        "id": "suxStE4X1HSm"
      },
      "source": [
        "#### Transforming the complex string list of amenities into structured binary features using the top 20 most common amenities."
      ]
    },
    {
      "cell_type": "code",
      "execution_count": null,
      "id": "823a78c0-506d-4e82-a659-ff0288cbd617",
      "metadata": {
        "colab": {
          "background_save": true
        },
        "id": "823a78c0-506d-4e82-a659-ff0288cbd617",
        "scrolled": true
      },
      "outputs": [],
      "source": [
        "import ast\n",
        "from collections import Counter\n",
        "\n",
        "df_copy['amenities'] = df_copy['amenities'].apply(lambda x: ast.literal_eval(x))\n",
        "\n",
        "all_amenities = [item for sublist in df_copy['amenities'] for item in sublist]\n",
        "top_amenities = [amenity for amenity, count in Counter(all_amenities).most_common(20)]  # Top 10 amenities\n",
        "\n",
        "for amenity in top_amenities:\n",
        "    df_copy[f'has_{amenity}'] = df_copy['amenities'].apply(lambda x: 1 if amenity in x else 0)\n",
        "\n",
        "df_copy.drop('amenities', axis=1, inplace=True)\n",
        "\n",
        "df_copy.head(3)\n"
      ]
    },
    {
      "cell_type": "markdown",
      "id": "MZ5TbZoW1Mmv",
      "metadata": {
        "id": "MZ5TbZoW1Mmv"
      },
      "source": [
        "#### The ``amenities`` column originally contains a list of items stored as stringified Python lists (e.g.``Wifi``, ``TV``, ``Kitchen``), which is unsuitable for modeling in raw form.\n",
        "\n",
        "- Step 1: Parsed string to list using ``ast.literal_eval()`` to safely convert the string into an actual list.\n",
        "\n",
        "- Step 2: Counted all unique amenities using ``Counter`` and extracted the top 20 most common amenities.\n",
        "\n",
        "- Step 3: Created new binary features for each of these top amenities. Each new column indicates whether a listing has a specific amenity (1) or not (0).\n",
        "\n",
        "- Step 4: Dropped the original ``amenities`` column after encoding.\n",
        "\n",
        " This approach keeps the most relevant information without overloading the dataset with too many sparse features, and it prepares the data for machine learning models which require numerical input."
      ]
    },
    {
      "cell_type": "code",
      "execution_count": null,
      "id": "5R1SYHjK18ze",
      "metadata": {
        "colab": {
          "background_save": true
        },
        "id": "5R1SYHjK18ze"
      },
      "outputs": [],
      "source": [
        "amenity_counts = Counter(all_amenities).most_common(20)\n",
        "amenity_names, counts = zip(*amenity_counts)\n",
        "\n",
        "plt.figure(figsize=(12, 6))\n",
        "plt.barh(amenity_names[::-1], counts[::-1], color='skyblue')\n",
        "plt.title('Top 20 Most Common Amenities', fontsize=16, fontweight='bold')\n",
        "plt.xlabel('Frequency')\n",
        "plt.ylabel('Amenity')\n",
        "plt.tight_layout()\n",
        "plt.show()"
      ]
    },
    {
      "cell_type": "markdown",
      "id": "O4yGUfpq2mf3",
      "metadata": {
        "id": "O4yGUfpq2mf3"
      },
      "source": [
        "#### This bar chart shows the top 20 amenities most frequently offered by hosts.\n",
        "\n",
        "- Safety amenities like Smoke alarm and Carbon monoxide alarm are highly common, indicating compliance with guest safety expectations.\n",
        "\n",
        "- Wifi, Hot water, Kitchen, and Essentials are also dominant, suggesting these are considered must-have basics.\n",
        "\n",
        "- Dishes and silverware, Hair dryer, and Shampoo reflect hospitality focus on comfort and convenience.\n",
        "\n",
        "This insight is valuable for both:\n",
        "\n",
        "- Hosts aiming to improve their offering.\n",
        "\n",
        "- Modeling, to decide which binary amenities to retain for prediction tasks."
      ]
    },
    {
      "cell_type": "markdown",
      "id": "89c1d4ed-4858-406b-9e62-e562d48c357b",
      "metadata": {
        "id": "89c1d4ed-4858-406b-9e62-e562d48c357b"
      },
      "source": [
        "## Handling Binary & Categorical Columns"
      ]
    },
    {
      "cell_type": "markdown",
      "id": "gBga0Hm83f2-",
      "metadata": {
        "id": "gBga0Hm83f2-"
      },
      "source": [
        "#### Binary Encoding\n",
        "Converting 't' and 'f' to 1 and 0"
      ]
    },
    {
      "cell_type": "code",
      "execution_count": null,
      "id": "498c1c16-950c-4f8e-a475-d1752b767162",
      "metadata": {
        "colab": {
          "background_save": true
        },
        "id": "498c1c16-950c-4f8e-a475-d1752b767162",
        "scrolled": true
      },
      "outputs": [],
      "source": [
        "# Binary encoding: Convert 't' and 'f' to 1 and 0\n",
        "binary_columns = ['host_is_superhost', 'host_identity_verified', 'instant_bookable']\n",
        "\n",
        "for col in binary_columns:\n",
        "    df_copy[col] = df_copy[col].map({'t': 1, 'f': 0})\n",
        "\n",
        "df_copy[binary_columns].head(3)\n"
      ]
    },
    {
      "cell_type": "markdown",
      "id": "hxPp4A3h3YIn",
      "metadata": {
        "id": "hxPp4A3h3YIn"
      },
      "source": [
        "#### Identifying Categorical Columns\n",
        " Overview of Object-Type Columns"
      ]
    },
    {
      "cell_type": "code",
      "execution_count": null,
      "id": "c2cfbad1-ed77-424f-8e1d-05c57dddd675",
      "metadata": {
        "colab": {
          "background_save": true
        },
        "id": "c2cfbad1-ed77-424f-8e1d-05c57dddd675"
      },
      "outputs": [],
      "source": [
        "categorical_columns = [col for col in df_copy.columns if df_copy[col].dtype == 'O']\n",
        "\n",
        "print(\"Categorical Columns:\", categorical_columns)\n"
      ]
    },
    {
      "cell_type": "markdown",
      "id": "KJ-hFegC39V9",
      "metadata": {
        "id": "KJ-hFegC39V9"
      },
      "source": [
        "Counting Unique Values"
      ]
    },
    {
      "cell_type": "code",
      "execution_count": null,
      "id": "e7d7b5d3-febb-4852-a502-7f70b4be2490",
      "metadata": {
        "colab": {
          "background_save": true
        },
        "id": "e7d7b5d3-febb-4852-a502-7f70b4be2490",
        "scrolled": true
      },
      "outputs": [],
      "source": [
        "columns_to_select = ['neighbourhood_cleansed', 'property_type', 'room_type', 'bathrooms_text']\n",
        "selected_data = df_copy[columns_to_select]\n",
        "\n",
        "unique_count = selected_data.nunique()\n",
        "print(\"Number of unique values in each selected column:\\n\", unique_count)\n"
      ]
    },
    {
      "cell_type": "markdown",
      "id": "IZ2yzwqR5Ecx",
      "metadata": {
        "id": "IZ2yzwqR5Ecx"
      },
      "source": [
        "## Label Encoding of Categorical Columns"
      ]
    },
    {
      "cell_type": "code",
      "execution_count": null,
      "id": "030bb1ce-b37a-4b94-8dbc-a1ab3e75d317",
      "metadata": {
        "colab": {
          "background_save": true
        },
        "id": "030bb1ce-b37a-4b94-8dbc-a1ab3e75d317",
        "scrolled": true
      },
      "outputs": [],
      "source": [
        "from sklearn.preprocessing import LabelEncoder\n",
        "\n",
        "columns_to_encode = ['neighbourhood_cleansed', 'property_type', 'room_type', 'bathrooms_text']\n",
        "\n",
        "le = LabelEncoder()\n",
        "for col in columns_to_encode:\n",
        "    df_copy[col] = le.fit_transform(df_copy[col])\n",
        "\n",
        "df_copy[columns_to_encode].head()\n"
      ]
    },
    {
      "cell_type": "markdown",
      "id": "VzSeAZE-5HzQ",
      "metadata": {
        "id": "VzSeAZE-5HzQ"
      },
      "source": [
        "- In this step, label encoding is applied to convert categorical string values into numeric labels. This is essential for machine learning models that cannot handle non-numeric data directly.\n",
        "\n",
        "- The columns encoded are: ``neighbourhood_cleansed``, ``property_type``, ``room_type``, and ``bathrooms_text``.\n",
        "\n",
        "- Each unique category in these columns is replaced with a distinct integer using ``LabelEncoder``.\n",
        "\n",
        "- This encoding retains the uniqueness of each category while making the data model-friendly."
      ]
    },
    {
      "cell_type": "code",
      "execution_count": null,
      "id": "2ca096dd-fc4e-46f6-9648-93f6a7163c02",
      "metadata": {
        "colab": {
          "background_save": true
        },
        "id": "2ca096dd-fc4e-46f6-9648-93f6a7163c02",
        "scrolled": true
      },
      "outputs": [],
      "source": [
        "df_copy.head()\n"
      ]
    },
    {
      "cell_type": "code",
      "execution_count": null,
      "id": "9fb85126-035b-444d-870c-e9531006657c",
      "metadata": {
        "colab": {
          "background_save": true
        },
        "id": "9fb85126-035b-444d-870c-e9531006657c",
        "scrolled": true
      },
      "outputs": [],
      "source": [
        "df_copy.isnull().sum()"
      ]
    },
    {
      "cell_type": "markdown",
      "id": "RQJPAK555lyF",
      "metadata": {
        "id": "RQJPAK555lyF"
      },
      "source": [
        "After performing a comprehensive data cleaning process — including handling missing values, encoding categorical and binary variables, and processing complex columns like amenities — we verified the dataset for any remaining missing values.\n",
        "\n",
        "- All columns now have zero missing values.\n",
        "This confirms the dataset is now fully clean and ready for modeling"
      ]
    },
    {
      "cell_type": "markdown",
      "id": "7ZMe2hb86MiS",
      "metadata": {
        "id": "7ZMe2hb86MiS"
      },
      "source": [
        "### Visualizations"
      ]
    },
    {
      "cell_type": "markdown",
      "id": "m2KVJqGW6E38",
      "metadata": {
        "id": "m2KVJqGW6E38"
      },
      "source": [
        "1. Correlation Heatmap"
      ]
    },
    {
      "cell_type": "code",
      "execution_count": null,
      "id": "GzUS0TxL6R_c",
      "metadata": {
        "colab": {
          "background_save": true
        },
        "id": "GzUS0TxL6R_c"
      },
      "outputs": [],
      "source": [
        "plt.figure(figsize=(12,10))\n",
        "sns.heatmap(df_copy.corr(), cmap='coolwarm', annot=False)\n",
        "plt.title(\"Correlation Heatmap\")\n",
        "plt.show()"
      ]
    },
    {
      "cell_type": "markdown",
      "id": "fyCuuO0F7R9_",
      "metadata": {
        "id": "fyCuuO0F7R9_"
      },
      "source": [
        "This heatmap helps identify relationships between all numerical features.\n",
        "\n",
        "- Strong correlations (closer to 1 or -1) suggest linear relationships.\n",
        "\n",
        "- Helps detect multicollinearity among features like ``review_scores_``*, ``availability_``*, etc.\n",
        "\n",
        "- Useful for selecting or dropping features before model training."
      ]
    },
    {
      "cell_type": "markdown",
      "id": "IlYY-5oP6nwT",
      "metadata": {
        "id": "IlYY-5oP6nwT"
      },
      "source": [
        "2.  Feature vs Price Analysis"
      ]
    },
    {
      "cell_type": "code",
      "execution_count": null,
      "id": "GG0Dl6LJ6nU7",
      "metadata": {
        "colab": {
          "background_save": true
        },
        "id": "GG0Dl6LJ6nU7"
      },
      "outputs": [],
      "source": [
        "sns.scatterplot(x='accommodates', y='price', data=df_copy)\n",
        "plt.title('Accommodates vs Price')\n",
        "plt.show()"
      ]
    },
    {
      "cell_type": "markdown",
      "id": "oYY0yW8a7jll",
      "metadata": {
        "id": "oYY0yW8a7jll"
      },
      "source": [
        "This scatter plot reveals the relationship between the number of guests a property accommodates and its price.\n",
        "\n",
        "- A general upward trend shows that price tends to increase with accommodates.\n",
        "\n",
        "- However, there’s high variability and many outliers at each level, indicating the presence of other influencing factors."
      ]
    },
    {
      "cell_type": "markdown",
      "id": "K06lMFX16uDb",
      "metadata": {
        "id": "K06lMFX16uDb"
      },
      "source": [
        " 3. Categorical vs Price"
      ]
    },
    {
      "cell_type": "code",
      "execution_count": null,
      "id": "J-kGIOHh6xp2",
      "metadata": {
        "colab": {
          "background_save": true
        },
        "id": "J-kGIOHh6xp2"
      },
      "outputs": [],
      "source": [
        "sns.boxplot(x='room_type', y='price', data=df_copy)\n",
        "plt.xticks(rotation=45)\n",
        "plt.title('Room Type vs Price')\n",
        "plt.show()"
      ]
    },
    {
      "cell_type": "markdown",
      "id": "kwuTCy1Q7owy",
      "metadata": {
        "id": "kwuTCy1Q7owy"
      },
      "source": [
        "This boxplot compares the price distribution across different encoded room types.\n",
        "- ``Room_type = 0`` (likely \"Entire home/apt\") shows the highest price range and most variability.\n",
        "\n",
        "- ``Room_type = 3`` (likely \"Shared room\") shows lower prices.\n",
        "\n",
        "- Helpful in identifying pricing patterns based on room category."
      ]
    },
    {
      "cell_type": "markdown",
      "id": "a670202d-a70a-4093-b915-af977b903293",
      "metadata": {
        "id": "a670202d-a70a-4093-b915-af977b903293"
      },
      "source": [
        "# Model training"
      ]
    },
    {
      "cell_type": "code",
      "execution_count": null,
      "id": "2728f341-bb36-4f5b-9663-db8ec17dcd50",
      "metadata": {
        "colab": {
          "background_save": true
        },
        "id": "2728f341-bb36-4f5b-9663-db8ec17dcd50"
      },
      "outputs": [],
      "source": [
        "from sklearn.model_selection import train_test_split\n",
        "\n",
        "#  independent (X) and dependent (y) variables\n",
        "X = df_copy.drop(['price'], axis=1)\n",
        "y = df_copy['price']\n",
        "\n",
        "# Split the data into training and testing sets\n",
        "X_train, X_test, y_train, y_test = train_test_split(X, y, test_size=0.2, random_state=42)\n",
        "\n",
        "# Verify the splits\n",
        "print(\"Training data:\", X_train.shape)\n",
        "print(\"Testing data:\", X_test.shape)\n"
      ]
    },
    {
      "cell_type": "code",
      "execution_count": null,
      "id": "c1111de5-c4a6-4b54-bbfb-be54f8d70a90",
      "metadata": {
        "colab": {
          "background_save": true
        },
        "id": "c1111de5-c4a6-4b54-bbfb-be54f8d70a90",
        "scrolled": true
      },
      "outputs": [],
      "source": [
        "X_train"
      ]
    },
    {
      "cell_type": "markdown",
      "id": "oR9L9fj88g09",
      "metadata": {
        "id": "oR9L9fj88g09"
      },
      "source": [
        "- The dataset is split into training (80%) and testing (20%) subsets using ``train_test_split`` from ``sklearn``.\n",
        "\n",
        "- This helps evaluate model performance on unseen data and reduces the risk of overfitting.\n",
        "\n",
        "- After removing the target column (``price``) from X, both feature sets ``(X_train, X_test)`` and target sets ``(y_train, y_test)`` are properly aligned and ready for modeling."
      ]
    },
    {
      "cell_type": "markdown",
      "id": "f9c82a89-4377-4aff-b40c-7b24d1a7e140",
      "metadata": {
        "id": "f9c82a89-4377-4aff-b40c-7b24d1a7e140"
      },
      "source": [
        "### Model Training And Model Selection"
      ]
    },
    {
      "cell_type": "markdown",
      "id": "gaoJJlPh9SWS",
      "metadata": {
        "id": "gaoJJlPh9SWS"
      },
      "source": [
        "## Model Selection and Evaluation Setup\n",
        "\n",
        "To train and evaluate different regression models for predicting the price, we first need to import the required libraries and models. These include both ensemble and linear models, as well as metrics to measure performance like MAE, RMSE, and R².\n"
      ]
    },
    {
      "cell_type": "code",
      "execution_count": null,
      "id": "21cbea9a-3ade-4357-9ea2-75aec65f3b14",
      "metadata": {
        "colab": {
          "background_save": true
        },
        "id": "21cbea9a-3ade-4357-9ea2-75aec65f3b14"
      },
      "outputs": [],
      "source": [
        "import pandas as pd\n",
        "from sklearn.ensemble import RandomForestRegressor, AdaBoostRegressor\n",
        "from sklearn.linear_model import LinearRegression\n",
        "from sklearn.tree import DecisionTreeRegressor\n",
        "from sklearn.metrics import r2_score, mean_absolute_error, mean_squared_error\n",
        "from xgboost import XGBRegressor"
      ]
    },
    {
      "cell_type": "markdown",
      "id": "_C67wTR89Xzc",
      "metadata": {
        "id": "_C67wTR89Xzc"
      },
      "source": [
        "\n",
        "- **Mean Absolute Error (MAE)** – average of absolute differences between predictions and actual values.\n",
        "- **Root Mean Squared Error (RMSE)** – square root of the average squared differences.\n",
        "- **R² Score** – indicates how well the model explains the variability of the target variable.\n"
      ]
    },
    {
      "cell_type": "markdown",
      "id": "YmyI61RD9n6z",
      "metadata": {
        "id": "YmyI61RD9n6z"
      },
      "source": [
        "Define Evaluation Metrics"
      ]
    },
    {
      "cell_type": "code",
      "execution_count": null,
      "id": "1ef98453-f8a3-4d3d-86dd-95f13d1e9a4c",
      "metadata": {
        "colab": {
          "background_save": true
        },
        "id": "1ef98453-f8a3-4d3d-86dd-95f13d1e9a4c"
      },
      "outputs": [],
      "source": [
        "##Create a Function to Evaluate Model\n",
        "def evaluate_model(true, predicted):\n",
        "    mae = mean_absolute_error(true, predicted)\n",
        "    mse = mean_squared_error(true, predicted)\n",
        "    rmse = np.sqrt(mean_squared_error(true, predicted))\n",
        "    r2_square = r2_score(true, predicted)\n",
        "    return mae, rmse, r2_square"
      ]
    },
    {
      "cell_type": "markdown",
      "id": "AzHUinKw9tTI",
      "metadata": {
        "id": "AzHUinKw9tTI"
      },
      "source": [
        "This function will be used after each model makes predictions, allowing us to consistently measure and compare performance on both training and testing datasets.\n"
      ]
    },
    {
      "cell_type": "markdown",
      "id": "Ufs73NHV948M",
      "metadata": {
        "id": "Ufs73NHV948M"
      },
      "source": [
        "### Begin Model Training and Evaluation\n",
        "\n",
        "Define a dictionary of regression models to compare their performance. Each model will be:\n",
        "- Trained using the training dataset\n",
        "- Evaluated on both training and test datasets using the `evaluate_model` function\n",
        "This setup enables quick benchmarking of different models using consistent metrics.\n"
      ]
    },
    {
      "cell_type": "code",
      "execution_count": null,
      "id": "63dbc2a1-0863-4769-88f0-18a13f925921",
      "metadata": {
        "colab": {
          "background_save": true
        },
        "id": "63dbc2a1-0863-4769-88f0-18a13f925921"
      },
      "outputs": [],
      "source": [
        "## Beginning Model Training\n",
        "models = {\n",
        "    \"Linear Regression\": LinearRegression(),\n",
        "    \"Decision Tree\": DecisionTreeRegressor(),\n",
        "    \"Random Forest Regressor\": RandomForestRegressor(),\n",
        "    \"Adaboost Regressor\":AdaBoostRegressor(),\n",
        "     \"XGBoost Regressor\": XGBRegressor(n_estimators=100, learning_rate=0.1, max_depth=3, random_state=42)}\n",
        "\n",
        "for i in range(len(list(models))):\n",
        "    model = list(models.values())[i]\n",
        "    model.fit(X_train, y_train) # Train model\n",
        "\n",
        "    # Make predictions\n",
        "    y_train_pred = model.predict(X_train)\n",
        "    y_test_pred = model.predict(X_test)\n",
        "\n",
        "    # Evaluate Train and Test dataset\n",
        "    model_train_mae , model_train_rmse, model_train_r2 = evaluate_model(y_train, y_train_pred)\n",
        "\n",
        "    model_test_mae , model_test_rmse, model_test_r2 = evaluate_model(y_test, y_test_pred)\n",
        "\n",
        "\n",
        "    print(list(models.keys())[i])\n",
        "\n",
        "    print('Model performance for Training set')\n",
        "    print(\"- Root Mean Squared Error: {:.4f}\".format(model_train_rmse))\n",
        "    print(\"- Mean Absolute Error: {:.4f}\".format(model_train_mae))\n",
        "    print(\"- R2 Score: {:.4f}\".format(model_train_r2))\n",
        "\n",
        "    print('----------------------------------')\n",
        "\n",
        "    print('Model performance for Test set')\n",
        "    print(\"- Root Mean Squared Error: {:.4f}\".format(model_test_rmse))\n",
        "    print(\"- Mean Absolute Error: {:.4f}\".format(model_test_mae))\n",
        "    print(\"- R2 Score: {:.4f}\".format(model_test_r2))\n",
        "\n",
        "    print('='*35)\n",
        "    print('\\n')"
      ]
    },
    {
      "cell_type": "markdown",
      "id": "n7GlEUFB-iDd",
      "metadata": {
        "id": "n7GlEUFB-iDd"
      },
      "source": [
        "### 📊 Model Performance Summary\n",
        "\n",
        "| Model                   | Train RMSE | Train MAE | Train R² | Test RMSE | Test MAE | Test R² |\n",
        "|------------------------|------------|-----------|----------|-----------|----------|---------|\n",
        "| **Linear Regression**   | 136.50     | 80.12     | 0.4728   | 151.76    | 84.19    | 0.3951  |\n",
        "| **Decision Tree**       | 0.39       | 0.01      | 1.0000   | 195.16    | 104.80   | -0.0005 |\n",
        "| **Random Forest**       | 47.57      | 26.50     | 0.9360   | 140.23    | 74.80    | 0.4835  |\n",
        "| **Adaboost**            | 237.31     | 213.15    | -0.5936  | 258.62    | 223.01   | -0.7568 |\n",
        "| **XGBoost**             | 103.86     | 60.38     | 0.6948   | 137.85    | 73.21    | 0.5009  |\n",
        "\n",
        "\n",
        "**Note:**  \n",
        "### ✅ Final Model Selection\n",
        "\n",
        "Based on the test set performance, the **XGBoost Regressor** was selected as the final model for this project. It achieved the best balance between bias and variance with:\n",
        "\n",
        "- **R² Score:** 0.5009\n",
        "- **RMSE:** 137.85\n",
        "- **MAE:** 73.21\n",
        "\n",
        "While the Random Forest Regressor also performed well (R² = 0.4835), XGBoost showed slightly better generalization. Other models such as Decision Tree and Adaboost were either highly overfitted or underperforming.\n",
        "\n",
        "This final model will be used for generating insights, interpreting feature importance, and building a business-facing Power BI dashboard.\n",
        "\n"
      ]
    },
    {
      "cell_type": "markdown",
      "id": "jUTHEAvL_YfG",
      "metadata": {
        "id": "jUTHEAvL_YfG"
      },
      "source": [
        "## Feature Importance – XGBoost"
      ]
    },
    {
      "cell_type": "code",
      "execution_count": null,
      "id": "_RRv_GVJ2Ebj",
      "metadata": {
        "colab": {
          "background_save": true
        },
        "id": "_RRv_GVJ2Ebj"
      },
      "outputs": [],
      "source": [
        "# Assuming your trained XGBoost model is stored as:\n",
        "xgb_model = models['XGBoost Regressor']\n",
        "\n",
        "# Get feature importances\n",
        "importances = xgb_model.feature_importances_\n",
        "features = X.columns\n"
      ]
    },
    {
      "cell_type": "code",
      "execution_count": null,
      "id": "8J6bkapH2IUp",
      "metadata": {
        "colab": {
          "background_save": true
        },
        "id": "8J6bkapH2IUp"
      },
      "outputs": [],
      "source": [
        "# Create DataFrame\n",
        "xgb_feature_df = pd.DataFrame({'Feature': features, 'Importance': importances})\n",
        "xgb_feature_df = xgb_feature_df.sort_values(by='Importance', ascending=False)"
      ]
    },
    {
      "cell_type": "markdown",
      "id": "LxglI0Jy2Q-Z",
      "metadata": {
        "id": "LxglI0Jy2Q-Z"
      },
      "source": [
        "Plot the Top N Important Features"
      ]
    },
    {
      "cell_type": "code",
      "execution_count": null,
      "id": "5793e875-6f1c-44ac-8321-e75d21067aba",
      "metadata": {
        "colab": {
          "background_save": true
        },
        "id": "5793e875-6f1c-44ac-8321-e75d21067aba"
      },
      "outputs": [],
      "source": [
        "# Plot Top 15\n",
        "plt.figure(figsize=(10, 6))\n",
        "sns.barplot(x='Importance', y='Feature', data=xgb_feature_df.head(15), palette='viridis')\n",
        "plt.title('Top 15 Most Important Features (XGBoost)', fontsize=14)\n",
        "plt.xlabel('Feature Importance Score')\n",
        "plt.ylabel('Feature')\n",
        "plt.tight_layout()\n",
        "plt.show()"
      ]
    },
    {
      "cell_type": "markdown",
      "id": "V54xhmCQ_47O",
      "metadata": {
        "id": "V54xhmCQ_47O"
      },
      "source": [
        "### Feature Importance Analysis (XGBoost)\n",
        "\n",
        "The chart below presents the top 15 features contributing most to price prediction, based on the XGBoost model.\n",
        "\n",
        "- **Top Features**:\n",
        "  - `bedrooms`, `accommodates`, and `availability_60` are the most influential features.\n",
        "  - Other key features include `room_type`, `bathrooms_text`, and amenities like `has_Dishwasher`.\n",
        "\n",
        "\n"
      ]
    },
    {
      "cell_type": "markdown",
      "id": "fCI_0vp3BlHE",
      "metadata": {
        "id": "fCI_0vp3BlHE"
      },
      "source": [
        "##  XGBoost Tuning Code with ``RandomizedSearchCV``:"
      ]
    },
    {
      "cell_type": "markdown",
      "id": "jKRzes_k5CmC",
      "metadata": {
        "id": "jKRzes_k5CmC"
      },
      "source": [
        "Even though XGBoost is a powerful algorithm, its default settings are not always optimal for every dataset.\n",
        "Hyperparameter tuning helps to:\n",
        "\n",
        "- Improve Prediction Accuracy\n",
        "- Reduce Overfitting or Underfitting\n",
        "- Balance model complexity and generalization\n",
        "- Find the best configuration automatically using cross-validation"
      ]
    },
    {
      "cell_type": "code",
      "execution_count": null,
      "id": "JD3jYhIH_qFu",
      "metadata": {
        "colab": {
          "background_save": true
        },
        "id": "JD3jYhIH_qFu"
      },
      "outputs": [],
      "source": [
        "from sklearn.model_selection import RandomizedSearchCV\n",
        "from xgboost import XGBRegressor\n",
        "\n",
        "# Define the model\n",
        "xgb = XGBRegressor(random_state=42)\n",
        "\n",
        "# Define the hyperparameter space\n",
        "param_dist = {\n",
        "    'n_estimators': [100, 200, 300],\n",
        "    'max_depth': [3, 5, 7],\n",
        "    'learning_rate': [0.01, 0.1, 0.2],\n",
        "    'subsample': [0.6, 0.8, 1.0],\n",
        "    'colsample_bytree': [0.6, 0.8, 1.0],\n",
        "    'gamma': [0, 1, 5]\n",
        "}\n",
        "\n",
        "# Set up RandomizedSearchCV\n",
        "random_search = RandomizedSearchCV(\n",
        "    estimator=xgb,\n",
        "    param_distributions=param_dist,\n",
        "    n_iter=20,  # Try 20 random combinations\n",
        "    scoring='neg_mean_squared_error',\n",
        "    cv=3,\n",
        "    verbose=1,\n",
        "    random_state=42,\n",
        "    n_jobs=-1\n",
        ")\n",
        "\n",
        "# Fit the model\n",
        "random_search.fit(X_train, y_train)\n",
        "\n",
        "# Best parameters\n",
        "print(\"Best Hyperparameters for XGBoost:\")\n",
        "print(random_search.best_params_)"
      ]
    },
    {
      "cell_type": "markdown",
      "id": "zD3mJ2bt4mgS",
      "metadata": {
        "id": "zD3mJ2bt4mgS"
      },
      "source": [
        " Best XGBoost Parameters:\n",
        "- n_estimators       = 200\n",
        "- max_depth          = 3\n",
        "- learning_rate      = 0.1\n",
        "- subsample          = 0.8\n",
        "- colsample_bytree   = 0.8\n",
        "- gamma              = 1\n"
      ]
    },
    {
      "cell_type": "markdown",
      "id": "gTzyo6tK5PKZ",
      "metadata": {
        "id": "gTzyo6tK5PKZ"
      },
      "source": [
        "This code automates the process of finding the best XGBoost hyperparameters (like learning rate, depth, gamma, etc.) using cross-validation, improving the model's ability to generalize well to unseen data.\n"
      ]
    },
    {
      "cell_type": "markdown",
      "id": "l1wOa6KS5Y2y",
      "metadata": {
        "id": "l1wOa6KS5Y2y"
      },
      "source": [
        "### Retraining XGBoost with Best Hyperparameters"
      ]
    },
    {
      "cell_type": "code",
      "execution_count": null,
      "id": "7UhN1KGq5e4T",
      "metadata": {
        "colab": {
          "background_save": true
        },
        "id": "7UhN1KGq5e4T"
      },
      "outputs": [],
      "source": [
        "# Best hyperparameters found from RandomizedSearchCV\n",
        "best_params = {\n",
        "    'subsample': 0.8,\n",
        "    'n_estimators': 200,\n",
        "    'max_depth': 3,\n",
        "    'learning_rate': 0.1,\n",
        "    'gamma': 1,\n",
        "    'colsample_bytree': 0.8\n",
        "}\n",
        "\n",
        "# Retrain XGBoost with best params\n",
        "from xgboost import XGBRegressor\n",
        "\n",
        "best_xgb = XGBRegressor(**best_params, random_state=42)\n",
        "best_xgb.fit(X_train, y_train)\n",
        "\n",
        "# Make predictions\n",
        "y_train_pred = best_xgb.predict(X_train)\n",
        "y_test_pred = best_xgb.predict(X_test)\n",
        "\n",
        "# Evaluate using your existing function\n",
        "train_mae, train_rmse, train_r2 = evaluate_model(y_train, y_train_pred)\n",
        "test_mae, test_rmse, test_r2 = evaluate_model(y_test, y_test_pred)\n",
        "\n",
        "# Print results\n",
        "print(\"Tuned XGBoost Regressor Performance\")\n",
        "print(f\"Train RMSE: {train_rmse:.2f}, MAE: {train_mae:.2f}, R²: {train_r2:.4f}\")\n",
        "print(f\"Test  RMSE: {test_rmse:.2f}, MAE: {test_mae:.2f}, R²: {test_r2:.4f}\")\n"
      ]
    },
    {
      "cell_type": "markdown",
      "id": "eA1K4vNY6KYZ",
      "metadata": {
        "id": "eA1K4vNY6KYZ"
      },
      "source": [
        "\n",
        "\n",
        "After applying hyperparameter tuning, the XGBoost Regressor showed a noticeable improvement in test performance:\n",
        "\n",
        "| Metric     | Train Set | Test Set |\n",
        "|------------|-----------|----------|\n",
        "| RMSE       | 94.04     | 137.59   |\n",
        "| MAE        | 55.55     | 70.97    |\n",
        "| R² Score   | 0.7498    | 0.5027   |\n",
        "\n",
        " **Key Insight**:\n",
        "- The **R² score improved to 0.50** on the test set, the best among all models tested.\n",
        "- The gap between training and test error is acceptable, showing **good generalization**.\n",
        "- This tuned XGBoost model is selected as the **final model** for insights and deployment.\n"
      ]
    },
    {
      "cell_type": "code",
      "execution_count": null,
      "id": "TZ_0zyU_6ppJ",
      "metadata": {
        "colab": {
          "background_save": true
        },
        "id": "TZ_0zyU_6ppJ"
      },
      "outputs": [],
      "source": [
        "import joblib\n",
        "\n",
        "# Save the tuned XGBoost model to a file\n",
        "joblib.dump(best_xgb, 'tuned_xgboost_model.pkl')\n",
        "print(\"Model saved as 'tuned_xgboost_model.pkl'\")\n"
      ]
    },
    {
      "cell_type": "markdown",
      "id": "Leur0g7wFd1p",
      "metadata": {
        "id": "Leur0g7wFd1p"
      },
      "source": [
        "### Visualization of Residuals (Prediction Errors)"
      ]
    },
    {
      "cell_type": "code",
      "execution_count": null,
      "id": "HX0Bukw57Noi",
      "metadata": {
        "colab": {
          "background_save": true
        },
        "id": "HX0Bukw57Noi"
      },
      "outputs": [],
      "source": [
        "# Add predictions and errors to a DataFrame\n",
        "result_df = X_test.copy()\n",
        "result_df['actual_price'] = y_test\n",
        "result_df['predicted_price'] = y_test_pred\n",
        "result_df['error'] = result_df['predicted_price'] - result_df['actual_price']\n",
        "result_df['abs_error'] = result_df['error'].abs()\n",
        "\n",
        "# Preview top rows with biggest absolute errors\n",
        "result_df.sort_values(by='abs_error', ascending=False).head(10)\n"
      ]
    },
    {
      "cell_type": "code",
      "execution_count": null,
      "id": "g5TkSp_27SDZ",
      "metadata": {
        "colab": {
          "background_save": true
        },
        "id": "g5TkSp_27SDZ"
      },
      "outputs": [],
      "source": [
        "import matplotlib.pyplot as plt\n",
        "import seaborn as sns\n",
        "\n",
        "residuals = y_test - y_test_pred\n",
        "\n",
        "plt.figure(figsize=(8, 5))\n",
        "sns.histplot(residuals, kde=True, bins=40)\n",
        "plt.title(\"Distribution of Residuals (Prediction Error)\")\n",
        "plt.xlabel(\"Residual (Actual - Predicted Price)\")\n",
        "plt.ylabel(\"Frequency\")\n",
        "plt.axvline(0, color='red', linestyle='--')\n",
        "plt.tight_layout()\n",
        "plt.show()\n"
      ]
    },
    {
      "cell_type": "code",
      "execution_count": null,
      "id": "HLURdXW87aJY",
      "metadata": {
        "colab": {
          "background_save": true
        },
        "id": "HLURdXW87aJY"
      },
      "outputs": [],
      "source": [
        "plt.figure(figsize=(8, 5))\n",
        "sns.scatterplot(x=y_test_pred, y=residuals)\n",
        "plt.axhline(0, color='red', linestyle='--')\n",
        "plt.title(\"Residuals vs Predicted Prices\")\n",
        "plt.xlabel(\"Predicted Price\")\n",
        "plt.ylabel(\"Residual (Error)\")\n",
        "plt.tight_layout()\n",
        "plt.show()\n"
      ]
    },
    {
      "cell_type": "markdown",
      "id": "Q-Qu3H4n75nB",
      "metadata": {
        "id": "Q-Qu3H4n75nB"
      },
      "source": [
        "### Residual Analysis\n",
        "\n",
        "Residuals help us understand how far off the predictions are from actual values. A good model should have residuals:\n",
        "\n",
        "- Centered around zero\n",
        "- Randomly scattered without patterns\n",
        "- With consistent spread across all prediction levels\n",
        "\n",
        "**Findings:**\n",
        "- The residual histogram shows a near-normal distribution centered at zero, indicating low bias.\n",
        "- The residual scatterplot shows increased error variance for higher price predictions. This could be explored further but remains acceptable for many real-world scenarios.\n",
        "\n",
        "Overall, residuals confirm that the tuned XGBoost model performs reasonably well, especially on mid-range predictions.\n"
      ]
    },
    {
      "cell_type": "markdown",
      "id": "qWFxDMwaHq73",
      "metadata": {
        "id": "qWFxDMwaHq73"
      },
      "source": [
        "### Segment-Based Prediction Error Analysis (Post Model Training)"
      ]
    },
    {
      "cell_type": "markdown",
      "id": "DYPKm5MZIIKW",
      "metadata": {
        "id": "DYPKm5MZIIKW"
      },
      "source": [
        "Even if the overall model performance looks acceptable, it might underperform in certain price ranges, which could be critical in a business context—especially in markets where pricing precision drives customer decisions or revenue.\n",
        "\n",
        "This analysis helps us:\n",
        "\n",
        "- Identify weak spots where the model makes large errors (e.g., low or high price ranges).\n",
        "\n",
        "- Understand error consistency across different segments of the price variable.\n",
        "\n",
        "- Provide targeted insights for future model improvements (e.g., separate models for luxury or budget listings).\n",
        "\n",
        "- Justify the model's reliability in segments with higher volume or business impact.\n",
        "\n",
        "By evaluating residuals (prediction errors) within price segments, we ensure that the model is not only statistically strong overall, but also fair and robust across different user groups or product categories."
      ]
    },
    {
      "cell_type": "code",
      "execution_count": null,
      "id": "iA0BbWh2Nbcn",
      "metadata": {
        "colab": {
          "background_save": true
        },
        "id": "iA0BbWh2Nbcn"
      },
      "outputs": [],
      "source": [
        "# Segments:\n",
        "bins = [0, 100, 200, 300, 500, 700, 1000, 2000]\n",
        "labels = ['<100', '100–200', '200–300', '300–500', '500–700', '700–1000', '1000–2000']\n"
      ]
    },
    {
      "cell_type": "code",
      "execution_count": null,
      "id": "RjJCt6ghIeIS",
      "metadata": {
        "colab": {
          "background_save": true
        },
        "id": "RjJCt6ghIeIS"
      },
      "outputs": [],
      "source": [
        "# Create DataFrame with true, predicted and residuals\n",
        "results_df = pd.DataFrame({\n",
        "    'Actual': y_test,\n",
        "    'Predicted': y_test_pred,\n",
        "})\n",
        "results_df['Residual'] = results_df['Actual'] - results_df['Predicted']\n",
        "\n",
        "# Segment prices\n",
        "results_df['Price_Segment'] = pd.cut(results_df['Actual'], bins=bins, labels=labels)\n",
        "\n",
        "# Group by segment and calculate average error\n",
        "segment_errors = results_df.groupby('Price_Segment').agg({\n",
        "    'Residual': ['mean', 'median', 'std', 'count']\n",
        "}).reset_index()\n",
        "\n",
        "# Display results\n",
        "import pandas as pd\n",
        "print(segment_errors)\n"
      ]
    },
    {
      "cell_type": "markdown",
      "id": "LUOJoeM_KV7i",
      "metadata": {
        "id": "LUOJoeM_KV7i"
      },
      "source": [
        "\n",
        "\n",
        "To ensure our model performs fairly across all price levels, we analyzed residuals (prediction errors) in different price bands.\n",
        "\n",
        "####  Key Findings:\n",
        "- For prices **below 300**, the model **underpredicts** slightly (by 20–40 on average), which is manageable in many business contexts.\n",
        "- Between **300–500**, the model begins **overpredicting** modestly.\n",
        "- For listings **above 500**, the model consistently and significantly **overestimates prices**.\n",
        "  - For example, in the 700–1000 range, the model is off by nearly **300** on average.\n",
        "  - For 1000–2000 listings, it's off by over **700**, making it **unreliable** for premium listings.\n",
        "\n"
      ]
    },
    {
      "cell_type": "code",
      "execution_count": null,
      "id": "bW5XFvuiK4vl",
      "metadata": {
        "colab": {
          "background_save": true
        },
        "id": "bW5XFvuiK4vl"
      },
      "outputs": [],
      "source": [
        "# Prepare data for plotting\n",
        "segment_plot = segment_errors.copy()\n",
        "segment_plot.columns = ['Price_Segment', 'Mean_Residual', 'Median_Residual', 'Std_Residual', 'Count']\n",
        "\n",
        "# Plot mean residuals by price segment\n",
        "plt.figure(figsize=(10, 6))\n",
        "sns.barplot(data=segment_plot, x='Price_Segment', y='Mean_Residual', palette='coolwarm')\n",
        "\n",
        "plt.axhline(0, color='gray', linestyle='--')\n",
        "plt.title('📊 Average Residuals by Price Segment', fontsize=14)\n",
        "plt.xlabel('Price Segment')\n",
        "plt.ylabel('Average Prediction Error (Residual)')\n",
        "plt.xticks(rotation=45)\n",
        "plt.tight_layout()\n",
        "plt.show()\n"
      ]
    },
    {
      "cell_type": "markdown",
      "id": "TUKMNlD9K_fc",
      "metadata": {
        "id": "TUKMNlD9K_fc"
      },
      "source": [
        "This bar chart shows how our model’s prediction errors (residuals) vary across different price segments.\n",
        "\n",
        "- Segments below 300 tend to be **underpredicted** (negative bars).\n",
        "- Segments above 500 are **overpredicted**, and the error grows significantly.\n",
        "- This pattern confirms that the model behaves differently in low vs. high price ranges — indicating a need for **price-based segmentation** or **model refinement**.\n"
      ]
    },
    {
      "cell_type": "markdown",
      "id": "JqCexrJwUkvh",
      "metadata": {
        "id": "JqCexrJwUkvh"
      },
      "source": [
        "# Extended Analysis"
      ]
    },
    {
      "cell_type": "markdown",
      "id": "oo9l7n28SuY8",
      "metadata": {
        "id": "oo9l7n28SuY8"
      },
      "source": [
        "### Segment-Wise Modeling\n",
        "\n",
        "Due to large residuals in the 557–1000 price range, we trained two separate models:\n",
        "- One for listings priced between 11 and 557\n",
        "- Another for listings priced between 557 and 1000\n",
        "\n",
        "This strategy ensures that each model learns **segment-specific patterns**, improving overall accuracy and reducing bias from outliers.\n",
        "\n",
        "#### Reason for Price-Based Modeling\n",
        "Segment-wise residual analysis revealed that:\n",
        "- Errors below 557 were relatively stable.\n",
        "- Errors above 557 increased sharply, indicating poor generalization.\n",
        "Thus, we train separate models for low- and high-price segments to improve prediction accuracy.\n",
        "\n"
      ]
    },
    {
      "cell_type": "code",
      "execution_count": null,
      "id": "pNm--QInTmTD",
      "metadata": {
        "colab": {
          "background_save": true
        },
        "id": "pNm--QInTmTD"
      },
      "outputs": [],
      "source": [
        "# Segment A: df_low\n",
        "df_low = df_copy[df_copy['price'] <= 557].copy()\n",
        "X_low = df_low.drop('price', axis=1)\n",
        "y_low = df_low['price']\n",
        "\n",
        "X_low_train, X_low_test, y_low_train, y_low_test = train_test_split(X_low, y_low, test_size=0.2, random_state=42)\n",
        "\n",
        "print(\"Segment A Train:\", X_low_train.shape)\n",
        "print(\"Segment A Test:\", X_low_test.shape)\n",
        "\n",
        "# Segment B: df_high\n",
        "df_high = df_copy[(df_copy['price'] > 557) & (df_copy['price'] <= 1000)].copy()\n",
        "X_high = df_high.drop('price', axis=1)\n",
        "y_high = df_high['price']\n",
        "\n",
        "X_high_train, X_high_test, y_high_train, y_high_test = train_test_split(X_high, y_high, test_size=0.2, random_state=42)\n",
        "\n",
        "print(\"Segment B Train:\", X_high_train.shape)\n",
        "print(\"Segment B Test:\", X_high_test.shape)\n",
        "\n"
      ]
    },
    {
      "cell_type": "markdown",
      "id": "5OuTuoiXUU-W",
      "metadata": {
        "id": "5OuTuoiXUU-W"
      },
      "source": [
        "**Segment-Based Splitting**\n",
        "\n",
        "Instead of one unified train-test split, we create two sub-datasets based on the price threshold of 557. Each sub-dataset has its own train-test split to produce two dedicated models, one for lower-priced listings, and another for higher-priced listings. This approach addresses the varying error patterns observed in the residual analysis.\n"
      ]
    },
    {
      "cell_type": "code",
      "execution_count": null,
      "id": "xyz7sKicVUY1",
      "metadata": {
        "colab": {
          "background_save": true
        },
        "id": "xyz7sKicVUY1"
      },
      "outputs": [],
      "source": [
        "from xgboost import XGBRegressor\n",
        "\n",
        "# Segment A Model\n",
        "model_low = XGBRegressor(n_estimators=100, random_state=42)  # or use best hyperparams\n",
        "model_low.fit(X_low_train, y_low_train)\n",
        "\n",
        "# Predictions\n",
        "y_low_train_pred = model_low.predict(X_low_train)\n",
        "y_low_test_pred = model_low.predict(X_low_test)\n",
        "\n",
        "# Evaluate\n",
        "def evaluate_model(true, pred):\n",
        "    from sklearn.metrics import mean_absolute_error, mean_squared_error, r2_score\n",
        "    import numpy as np\n",
        "    mae = mean_absolute_error(true, pred)\n",
        "    rmse = np.sqrt(mean_squared_error(true, pred))\n",
        "    r2 = r2_score(true, pred)\n",
        "    return mae, rmse, r2\n",
        "\n",
        "train_mae_low, train_rmse_low, train_r2_low = evaluate_model(y_low_train, y_low_train_pred)\n",
        "test_mae_low, test_rmse_low, test_r2_low = evaluate_model(y_low_test, y_low_test_pred)\n",
        "\n",
        "print(\"Segment A Model:\")\n",
        "print(f\"Train -> RMSE: {train_rmse_low:.2f}, MAE: {train_mae_low:.2f}, R2: {train_r2_low:.4f}\")\n",
        "print(f\"Test  -> RMSE: {test_rmse_low:.2f}, MAE: {test_mae_low:.2f}, R2: {test_r2_low:.4f}\")\n",
        "print(\"=\"*40)\n"
      ]
    },
    {
      "cell_type": "markdown",
      "id": "fZBWzQnOeKqD",
      "metadata": {
        "id": "fZBWzQnOeKqD"
      },
      "source": [
        "## Segment A (Price ≤ 557) – Final Model Summary\n",
        "\n",
        "This segment showed consistent and reliable performance using the **XGBoost Regressor**.\n",
        "\n",
        "### Performance Metrics:\n",
        "- **Train Set**:\n",
        "  - RMSE: 18.17\n",
        "  - MAE: 12.74\n",
        "  - R²: 0.9715\n",
        "- **Test Set**:\n",
        "  - RMSE: 69.93\n",
        "  - MAE: 52.25\n",
        "  - R²: 0.5742\n",
        "\n",
        "### Why Segment A Performed Well:\n",
        "- **Large volume of data** (~4,500+ listings) gave the model enough patterns to learn from.\n",
        "- **Lower variance in pricing** (more standardized listings).\n",
        "- **Features like bedrooms, room_type, and availability** had strong influence and were well captured.\n",
        "\n",
        "### Modeling Decision:\n",
        "- Chose **XGBoost** for its balance between bias and variance.\n",
        "- Didn’t show signs of overfitting.\n",
        "- No further tuning needed beyond initial performance.\n",
        "\n",
        "\n"
      ]
    },
    {
      "cell_type": "code",
      "execution_count": null,
      "id": "3ilurbWKViba",
      "metadata": {
        "colab": {
          "background_save": true
        },
        "id": "3ilurbWKViba"
      },
      "outputs": [],
      "source": [
        "# Segment B Model\n",
        "model_high = XGBRegressor(n_estimators=100, random_state=42)  # or use best hyperparams\n",
        "model_high.fit(X_high_train, y_high_train)\n",
        "\n",
        "# Predictions\n",
        "y_high_train_pred = model_high.predict(X_high_train)\n",
        "y_high_test_pred = model_high.predict(X_high_test)\n",
        "\n",
        "# Evaluate\n",
        "train_mae_high, train_rmse_high, train_r2_high = evaluate_model(y_high_train, y_high_train_pred)\n",
        "test_mae_high, test_rmse_high, test_r2_high = evaluate_model(y_high_test, y_high_test_pred)\n",
        "\n",
        "print(\"Segment B Model:\")\n",
        "print(f\"Train -> RMSE: {train_rmse_high:.2f}, MAE: {train_mae_high:.2f}, R2: {train_r2_high:.4f}\")\n",
        "print(f\"Test  -> RMSE: {test_rmse_high:.2f}, MAE: {test_mae_high:.2f}, R2: {test_r2_high:.4f}\")\n",
        "print(\"=\"*40)\n"
      ]
    },
    {
      "cell_type": "markdown",
      "id": "1FbTccI5HqMk",
      "metadata": {
        "id": "1FbTccI5HqMk"
      },
      "source": [
        "### Segment-Wise Model Evaluation Summary\n",
        "\n",
        "After identifying performance issues in the overall model using segment-based residual analysis, we trained separate models for different price segments to improve prediction accuracy.\n",
        "\n",
        "#### Segment A (Price ≤ 557)\n",
        "- **Model Used**: XGBoost Regressor\n",
        "- **Training Performance**:  \n",
        "  - RMSE: 18.17 | MAE: 12.74 | R²: 0.9715  \n",
        "- **Testing Performance**:  \n",
        "  - RMSE: 69.93 | MAE: 52.25 | R²: 0.5742  \n",
        "-  **Interpretation**: Good generalization. The model performs well on both train and test sets, capturing the majority of the variance in low-price listings.\n",
        "\n",
        "#### Segment B (Price 557–1000)\n",
        "- **Model Used**: XGBoost Regressor\n",
        "- **Training Performance**:  \n",
        "  - RMSE: 0.01 | MAE: 0.01 | R²: 1.0000  \n",
        "- **Testing Performance**:  \n",
        "  - RMSE: 127.21 | MAE: 96.07 | R²: -0.2624  \n",
        "- **Interpretation**: Severe overfitting — the model performs perfectly on training data but fails to generalize on unseen data.\n",
        "\n",
        "---\n",
        "\n",
        "### Next Step: Fixing Segment B\n",
        "\n",
        "The overfitting in Segment B is likely due to:\n",
        "- **Small dataset size** (only ~260 records)\n",
        "- **Complex model** (XGBoost is prone to overfitting in low-data scenarios)\n",
        "\n",
        " **Solution**:\n",
        "We will replace XGBoost with a **regularized linear model** like **Ridge Regression** or **Lasso Regression** for this segment. These simpler models can generalize better when data is limited.\n",
        "\n",
        "This will help:\n",
        "- Reduce variance\n",
        "- Improve generalization\n",
        "- Maintain interpretability\n",
        "\n",
        "We’ll compare performance again after this adjustment.\n",
        "\n",
        "---\n"
      ]
    },
    {
      "cell_type": "markdown",
      "id": "0M3_Xgj8ZVX6",
      "metadata": {
        "id": "0M3_Xgj8ZVX6"
      },
      "source": [
        "### Ridge Regression for Segment B\n",
        "\n"
      ]
    },
    {
      "cell_type": "code",
      "execution_count": null,
      "id": "V1Se6B_eYMHB",
      "metadata": {
        "colab": {
          "background_save": true
        },
        "id": "V1Se6B_eYMHB"
      },
      "outputs": [],
      "source": [
        "from sklearn.linear_model import Ridge\n",
        "from sklearn.preprocessing import StandardScaler\n",
        "from sklearn.pipeline import Pipeline\n",
        "\n",
        "# Define a pipeline to scale features and apply Ridge regression\n",
        "ridge_pipeline = Pipeline([\n",
        "    ('scaler', StandardScaler()),\n",
        "    ('ridge', Ridge(alpha=1.0, random_state=42))\n",
        "])\n",
        "\n",
        "# Train the Ridge model on Segment B\n",
        "ridge_pipeline.fit(X_high_train, y_high_train)\n",
        "\n",
        "# Predictions\n",
        "y_high_train_pred = ridge_pipeline.predict(X_high_train)\n",
        "y_high_test_pred = ridge_pipeline.predict(X_high_test)\n",
        "\n",
        "# Evaluation\n",
        "train_mae_ridge, train_rmse_ridge, train_r2_ridge = evaluate_model(y_high_train, y_high_train_pred)\n",
        "test_mae_ridge, test_rmse_ridge, test_r2_ridge = evaluate_model(y_high_test, y_high_test_pred)\n",
        "\n",
        "# Print results\n",
        "print(\"Segment B Ridge Regression Model:\")\n",
        "print(f\"Train -> RMSE: {train_rmse_ridge:.2f}, MAE: {train_mae_ridge:.2f}, R2: {train_r2_ridge:.4f}\")\n",
        "print(f\"Test  -> RMSE: {test_rmse_ridge:.2f}, MAE: {test_mae_ridge:.2f}, R2: {test_r2_ridge:.4f}\")\n",
        "print(\"=\"*40)\n"
      ]
    },
    {
      "cell_type": "markdown",
      "id": "Jju0nozTZsOh",
      "metadata": {
        "id": "Jju0nozTZsOh"
      },
      "source": [
        "- Train RMSE and R² show slight improvement compared to XGBoost (which completely overfit), but...\n",
        "\n",
        "- Test R² is still negative, indicating poor generalization — the model performs worse than predicting the mean.\n",
        "\n",
        "- This segment might be too small (only 264 rows) and too noisy for stable modeling using standard regressors."
      ]
    },
    {
      "cell_type": "markdown",
      "id": "riGFojA5HkA9",
      "metadata": {
        "id": "riGFojA5HkA9"
      },
      "source": [
        "### Lasso regression on Segment B"
      ]
    },
    {
      "cell_type": "code",
      "execution_count": null,
      "id": "iWyGLhkTZ5GT",
      "metadata": {
        "colab": {
          "background_save": true
        },
        "id": "iWyGLhkTZ5GT"
      },
      "outputs": [],
      "source": [
        "from sklearn.linear_model import Lasso\n",
        "from sklearn.preprocessing import StandardScaler\n",
        "from sklearn.pipeline import make_pipeline\n",
        "\n",
        "# Segment B: Lasso Regression\n",
        "lasso_model = make_pipeline(StandardScaler(), Lasso(alpha=0.1, random_state=42))\n",
        "lasso_model.fit(X_high_train, y_high_train)\n",
        "\n",
        "# Predictions\n",
        "y_high_train_pred = lasso_model.predict(X_high_train)\n",
        "y_high_test_pred = lasso_model.predict(X_high_test)\n",
        "\n",
        "# Evaluate\n",
        "train_mae_lasso, train_rmse_lasso, train_r2_lasso = evaluate_model(y_high_train, y_high_train_pred)\n",
        "test_mae_lasso, test_rmse_lasso, test_r2_lasso = evaluate_model(y_high_test, y_high_test_pred)\n",
        "\n",
        "print(\"Segment B Lasso Regression Model:\")\n",
        "print(f\"Train -> RMSE: {train_rmse_lasso:.2f}, MAE: {train_mae_lasso:.2f}, R2: {train_r2_lasso:.4f}\")\n",
        "print(f\"Test  -> RMSE: {test_rmse_lasso:.2f}, MAE: {test_mae_lasso:.2f}, R2: {test_r2_lasso:.4f}\")\n",
        "print(\"=\"*40)"
      ]
    },
    {
      "cell_type": "code",
      "execution_count": null,
      "id": "0wqDwWRbbHAA",
      "metadata": {
        "colab": {
          "background_save": true
        },
        "id": "0wqDwWRbbHAA"
      },
      "outputs": [],
      "source": [
        "from sklearn.linear_model import Lasso\n",
        "from sklearn.preprocessing import StandardScaler\n",
        "from sklearn.pipeline import make_pipeline\n",
        "from sklearn.ensemble import GradientBoostingRegressor\n",
        "\n",
        "# Segment B: Gradient Boosting Regressor\n",
        "gb_model = GradientBoostingRegressor(n_estimators=100, learning_rate=0.1, max_depth=3, random_state=42)\n",
        "gb_model.fit(X_high_train, y_high_train)\n",
        "\n",
        "# Predictions\n",
        "y_high_train_pred = gb_model.predict(X_high_train)\n",
        "y_high_test_pred = gb_model.predict(X_high_test)\n",
        "\n",
        "# Evaluate\n",
        "train_mae_gb, train_rmse_gb, train_r2_gb = evaluate_model(y_high_train, y_high_train_pred)\n",
        "test_mae_gb, test_rmse_gb, test_r2_gb = evaluate_model(y_high_test, y_high_test_pred)\n",
        "\n",
        "print(\"Segment B Gradient Boosting Model:\")\n",
        "print(f\"Train -> RMSE: {train_rmse_gb:.2f}, MAE: {train_mae_gb:.2f}, R2: {train_r2_gb:.4f}\")\n",
        "print(f\"Test  -> RMSE: {test_rmse_gb:.2f}, MAE: {test_mae_gb:.2f}, R2: {test_r2_gb:.4f}\")\n",
        "print(\"=\"*40)"
      ]
    },
    {
      "cell_type": "code",
      "execution_count": null,
      "id": "Dr0YtxQXbxQs",
      "metadata": {
        "colab": {
          "background_save": true
        },
        "id": "Dr0YtxQXbxQs"
      },
      "outputs": [],
      "source": [
        "from sklearn.svm import SVR\n",
        "from sklearn.preprocessing import StandardScaler\n",
        "from sklearn.pipeline import make_pipeline\n",
        "\n",
        "# Create a pipeline with scaling and SVR\n",
        "svr_model = make_pipeline(StandardScaler(), SVR(kernel='rbf', C=100, gamma=0.1, epsilon=10))\n",
        "svr_model.fit(X_high_train, y_high_train)\n",
        "\n",
        "# Predict\n",
        "y_high_train_pred = svr_model.predict(X_high_train)\n",
        "y_high_test_pred = svr_model.predict(X_high_test)\n",
        "\n",
        "# Evaluate\n",
        "train_mae_svr, train_rmse_svr, train_r2_svr = evaluate_model(y_high_train, y_high_train_pred)\n",
        "test_mae_svr, test_rmse_svr, test_r2_svr = evaluate_model(y_high_test, y_high_test_pred)\n",
        "\n",
        "print(\"Segment B SVR Model:\")\n",
        "print(f\"Train -> RMSE: {train_rmse_svr:.2f}, MAE: {train_mae_svr:.2f}, R2: {train_r2_svr:.4f}\")\n",
        "print(f\"Test  -> RMSE: {test_rmse_svr:.2f}, MAE: {test_mae_svr:.2f}, R2: {test_r2_svr:.4f}\")\n",
        "print(\"=\"*40)\n"
      ]
    },
    {
      "cell_type": "markdown",
      "id": "hHJPTfV_dtgY",
      "metadata": {
        "id": "hHJPTfV_dtgY"
      },
      "source": [
        "## Segment B (Price: 557–1000) – Model Performance Summary\n",
        "\n",
        "Despite multiple attempts with advanced regression techniques, the model consistently struggled to generalize well on the test set for Segment B.\n",
        "\n",
        "### Why Segment B Performed Poorly:\n",
        "- **Limited Data**: Only ~264 listings were available in this segment, making it difficult for models to learn generalizable patterns.\n",
        "- **High Price Volatility**: Listings in this range had large price fluctuations (e.g., due to luxury amenities or premium locations) which weren't fully explained by the available features.\n",
        "- **Overfitting Risk**: Several models (like XGBoost and Gradient Boosting) performed extremely well on training data but failed on test data — indicating overfitting.\n",
        "- **Feature Limitations**: Some influential factors (e.g., listing descriptions, seasonal pricing, photos) may be missing from the dataset.\n",
        "\n",
        "### Models Tried in Segment B:\n",
        "- XGBoost Regressor\n",
        "- Ridge Regression\n",
        "- Lasso Regression\n",
        "- Gradient Boosting Regressor\n",
        "- Support Vector Regressor (SVR)\n",
        "- LightGBM Regressor\n",
        "\n",
        "###  How We Handled It:\n",
        "- We kept all model attempts to showcase **experimentation and transparency**.\n",
        "- **Clearly reported** R², MAE, and RMSE for each model to help interpret where the gap lies.\n",
        "- Acknowledged limitations in the data rather than artificially inflating results.\n",
        "- Suggested that in real-world deployment, this segment may require:\n",
        "  - More feature engineering or external data sources\n",
        "  - Business rule-based heuristics (e.g., fallback price band estimation)\n",
        "  - Specialized models trained with domain-specific attributes\n",
        "\n",
        "\n"
      ]
    },
    {
      "cell_type": "code",
      "execution_count": null,
      "id": "yo81H_ILdzTM",
      "metadata": {
        "colab": {
          "background_save": true
        },
        "id": "yo81H_ILdzTM"
      },
      "outputs": [],
      "source": [
        "import joblib\n",
        "\n",
        "# Save Segment A XGBoost model\n",
        "joblib.dump(model_low, 'segment_a_xgboost_model.pkl')\n",
        "print(\"Segment A XGBoost model saved successfully!\")\n"
      ]
    },
    {
      "cell_type": "code",
      "execution_count": null,
      "id": "IPPGMYUGeT5Y",
      "metadata": {
        "colab": {
          "background_save": true
        },
        "id": "IPPGMYUGeT5Y"
      },
      "outputs": [],
      "source": [
        "# Calculate residuals (Prediction Error)\n",
        "residuals_low = y_low_test - y_low_test_pred\n",
        "\n",
        "# Histogram of Residuals\n",
        "plt.figure(figsize=(8, 5))\n",
        "sns.histplot(residuals_low, bins=50, kde=True, color='skyblue')\n",
        "plt.axvline(0, color='red', linestyle='--')\n",
        "plt.title('Distribution of Residuals (Segment A)')\n",
        "plt.xlabel('Residual (Actual - Predicted Price)')\n",
        "plt.ylabel('Frequency')\n",
        "plt.tight_layout()\n",
        "plt.show()\n",
        "\n",
        "# Residuals vs Predicted\n",
        "plt.figure(figsize=(8, 5))\n",
        "sns.scatterplot(x=y_low_test_pred, y=residuals_low)\n",
        "plt.axhline(0, color='red', linestyle='--')\n",
        "plt.title('Residuals vs Predicted Price (Segment A)')\n",
        "plt.xlabel('Predicted Price')\n",
        "plt.ylabel('Residual')\n",
        "plt.tight_layout()\n",
        "plt.show()"
      ]
    },
    {
      "cell_type": "markdown",
      "id": "Hbd_bwYAfM7I",
      "metadata": {
        "id": "Hbd_bwYAfM7I"
      },
      "source": [
        "#### Residual Visualization (Segment A)\n",
        "1. Distribution of Residuals\n",
        "The residuals (actual - predicted prices) form a nearly normal distribution centered around zero.\n",
        "This shape indicates that the model’s errors are mostly small and evenly distributed on both sides of the actual values.\n",
        "\n",
        "  - Conclusion: The model is not biased toward underpredicting or overpredicting in this price segment.\n",
        "\n",
        "2. Residuals vs Predicted Prices\n",
        "The residuals are randomly dispersed around the horizontal zero line.\n",
        "There is no clear pattern or funnel shape, which suggests that:\n",
        "The variance of errors is stable across the prediction range (no heteroscedasticity).\n",
        "The model is generalizing well for this segment."
      ]
    },
    {
      "cell_type": "markdown",
      "id": "ixoNYsJKkqcY",
      "metadata": {
        "id": "ixoNYsJKkqcY"
      },
      "source": [
        "### Getting the labels of catgorical columns"
      ]
    },
    {
      "cell_type": "code",
      "execution_count": null,
      "id": "DGIwPfrPky2l",
      "metadata": {
        "colab": {
          "background_save": true
        },
        "id": "DGIwPfrPky2l"
      },
      "outputs": [],
      "source": [
        "# Proper mapping from original data (make sure to use unencoded columns)\n",
        "from sklearn.preprocessing import LabelEncoder\n",
        "\n",
        "# 🏘 Neighbourhood\n",
        "le_neigh = LabelEncoder()\n",
        "le_neigh.fit(df['neighbourhood_cleansed'])  # original column\n",
        "neigh_map = {i: label for i, label in enumerate(le_neigh.classes_)}\n",
        "\n",
        "# 🏡 Property Type\n",
        "le_property = LabelEncoder()\n",
        "le_property.fit(df['property_type'])\n",
        "property_map = {i: label for i, label in enumerate(le_property.classes_)}\n",
        "\n",
        "# 🛏 Room Type\n",
        "le_room = LabelEncoder()\n",
        "le_room.fit(df['room_type'])\n",
        "room_map = {i: label for i, label in enumerate(le_room.classes_)}\n",
        "\n",
        "# 🛁 Bathrooms Text\n",
        "le_bath = LabelEncoder()\n",
        "le_bath.fit(df['bathrooms_text'])\n",
        "bath_map = {i: label for i, label in enumerate(le_bath.classes_)}\n",
        "\n",
        "# ✅ Print human-readable mappings\n",
        "print(\"🏘 Neighbourhood Mapping:\", neigh_map)\n",
        "print(\"🏡 Property Type Mapping:\", property_map)\n",
        "print(\"🛏 Room Type Mapping:\", room_map)\n",
        "print(\"🛁 Bathrooms Text Mapping:\", bath_map)\n"
      ]
    },
    {
      "cell_type": "code",
      "execution_count": null,
      "id": "B-J1nviJn3IN",
      "metadata": {
        "colab": {
          "background_save": true
        },
        "id": "B-J1nviJn3IN"
      },
      "outputs": [],
      "source": [
        "segment_a_results.columns\n"
      ]
    },
    {
      "cell_type": "code",
      "execution_count": null,
      "id": "YP_vnU9Ms4mp",
      "metadata": {
        "colab": {
          "background_save": true
        },
        "id": "YP_vnU9Ms4mp"
      },
      "outputs": [],
      "source": [
        "import pandas as pd\n",
        "\n",
        "# 1. Recreate segment_a_results\n",
        "segment_a_results = X_low_test.copy()\n",
        "segment_a_results['Actual Price ($)'] = y_low_test\n",
        "segment_a_results['Predicted Price ($)'] = y_low_test_pred\n",
        "segment_a_results['Prediction Error ($)'] = y_low_test - y_low_test_pred\n",
        "segment_a_results.reset_index(drop=True, inplace=True)"
      ]
    },
    {
      "cell_type": "code",
      "execution_count": null,
      "id": "Pjq9SG5_mGIM",
      "metadata": {
        "colab": {
          "background_save": true
        },
        "id": "Pjq9SG5_mGIM"
      },
      "outputs": [],
      "source": [
        "#  Neighbourhood Mapping\n",
        "neighbourhood_mapping = {\n",
        "    0: 'Bijlmer-Centrum',\n",
        "    1: 'Bijlmer-Oost',\n",
        "    2: 'Bos en Lommer',\n",
        "    3: 'Buitenveldert - Zuidas',\n",
        "    4: 'Centrum-Oost',\n",
        "    5: 'Centrum-West',\n",
        "    6: 'De Aker - Nieuw Sloten',\n",
        "    7: 'De Baarsjes - Oud-West',\n",
        "    8: 'De Pijp - Rivierenbuurt',\n",
        "    9: 'Gaasperdam - Driemond',\n",
        "    10: 'Geuzenveld - Slotermeer',\n",
        "    11: 'IJburg - Zeeburgereiland',\n",
        "    12: 'Noord-Oost',\n",
        "    13: 'Noord-West',\n",
        "    14: 'Oostelijk Havengebied - Indische Buurt',\n",
        "    15: 'Osdorp',\n",
        "    16: 'Oud-Noord',\n",
        "    17: 'Oud-Oost',\n",
        "    18: 'Slotervaart',\n",
        "    19: 'Watergraafsmeer',\n",
        "    20: 'Westerpark',\n",
        "    21: 'Zuid'\n",
        "}\n",
        "\n",
        "# Apply decoding to the column\n",
        "segment_a_results['Neighbourhood'] = segment_a_results['neighbourhood_cleansed'].map(neighbourhood_mapping)\n"
      ]
    },
    {
      "cell_type": "code",
      "execution_count": null,
      "id": "HkPFK8PNoXmT",
      "metadata": {
        "colab": {
          "background_save": true
        },
        "id": "HkPFK8PNoXmT"
      },
      "outputs": [],
      "source": [
        "# Replace encoded property type values with actual names\n",
        "property_type_mapping = {\n",
        "    0: 'Barn', 1: 'Boat', 2: 'Camper/RV', 3: 'Casa particular', 4: 'Cave', 5: 'Earthen home',\n",
        "    6: 'Entire cabin', 7: 'Entire chalet', 8: 'Entire condo', 9: 'Entire cottage', 10: 'Entire guest suite',\n",
        "    11: 'Entire guesthouse', 12: 'Entire home', 13: 'Entire loft', 14: 'Entire place', 15: 'Entire rental unit',\n",
        "    16: 'Entire serviced apartment', 17: 'Entire townhouse', 18: 'Entire vacation home', 19: 'Entire villa',\n",
        "    20: 'Houseboat', 21: 'Private room', 22: 'Private room in barn', 23: 'Private room in bed and breakfast',\n",
        "    24: 'Private room in boat', 25: 'Private room in bungalow', 26: 'Private room in cabin',\n",
        "    27: 'Private room in casa particular', 28: 'Private room in condo', 29: 'Private room in earthen home',\n",
        "    30: 'Private room in farm stay', 31: 'Private room in guest suite', 32: 'Private room in guesthouse',\n",
        "    33: 'Private room in home', 34: 'Private room in hostel', 35: 'Private room in houseboat',\n",
        "    36: 'Private room in hut', 37: 'Private room in loft', 38: 'Private room in nature lodge',\n",
        "    39: 'Private room in rental unit', 40: 'Private room in serviced apartment', 41: 'Private room in tiny home',\n",
        "    42: 'Private room in townhouse', 43: 'Private room in vacation home', 44: 'Private room in villa',\n",
        "    45: 'Room in aparthotel', 46: 'Room in bed and breakfast', 47: 'Room in boutique hotel',\n",
        "    48: 'Room in hostel', 49: 'Room in hotel', 50: 'Room in serviced apartment', 51: 'Shared room in boat',\n",
        "    52: 'Shared room in home', 53: 'Shared room in hostel', 54: 'Shared room in hotel',\n",
        "    55: 'Shared room in houseboat', 56: 'Shared room in rental unit', 57: 'Tiny home', 58: 'Yurt'\n",
        "}\n",
        "\n",
        "segment_a_results['Property Type'] = segment_a_results['property_type'].map(property_type_mapping)\n"
      ]
    },
    {
      "cell_type": "code",
      "execution_count": null,
      "id": "Tg8jlzdcpHSx",
      "metadata": {
        "colab": {
          "background_save": true
        },
        "id": "Tg8jlzdcpHSx"
      },
      "outputs": [],
      "source": [
        "# Room Type mapping\n",
        "room_type_mapping = {\n",
        "    0: 'Entire home/apt',\n",
        "    1: 'Hotel room',\n",
        "    2: 'Private room',\n",
        "    3: 'Shared room'\n",
        "}\n",
        "\n",
        "# Apply mapping\n",
        "segment_a_results['Room Type'] = segment_a_results['room_type'].map(room_type_mapping)\n"
      ]
    },
    {
      "cell_type": "code",
      "execution_count": null,
      "id": "XBV59VOgpSiI",
      "metadata": {
        "colab": {
          "background_save": true
        },
        "id": "XBV59VOgpSiI"
      },
      "outputs": [],
      "source": [
        "# Bathrooms (Text) mapping\n",
        "bathroom_text_mapping = {\n",
        "    0: '0 baths',\n",
        "    1: '0 shared baths',\n",
        "    2: '1 bath',\n",
        "    3: '1 private bath',\n",
        "    4: '1 shared bath',\n",
        "    5: '1.5 baths',\n",
        "    6: '1.5 shared baths',\n",
        "    7: '12 baths',\n",
        "    8: '17 baths',\n",
        "    9: '2 baths',\n",
        "    10: '2 shared baths',\n",
        "    11: '2.5 baths',\n",
        "    12: '2.5 shared baths',\n",
        "    13: '3 baths',\n",
        "    14: '3 shared baths',\n",
        "    15: '3.5 baths',\n",
        "    16: '4 baths',\n",
        "    17: '4 shared baths',\n",
        "    18: '4.5 baths',\n",
        "    19: '5 baths',\n",
        "    20: '5.5 baths',\n",
        "    21: '7 baths',\n",
        "    22: 'Half-bath',\n",
        "    23: 'Private half-bath',\n",
        "    24: 'Shared half-bath',\n",
        "    25: 'Unknown'\n",
        "}\n",
        "\n",
        "# Apply mapping\n",
        "segment_a_results['Bathrooms (Text)'] = segment_a_results['bathrooms_text'].map(bathroom_text_mapping)\n"
      ]
    },
    {
      "cell_type": "code",
      "execution_count": null,
      "id": "VU9Aw3Zmp9oR",
      "metadata": {
        "colab": {
          "background_save": true
        },
        "id": "VU9Aw3Zmp9oR"
      },
      "outputs": [],
      "source": [
        "# Mapping dictionaries\n",
        "binary_mapping = {'t': 'Yes', 'f': 'No'}\n",
        "\n",
        "# Apply to relevant columns\n",
        "segment_a_results['Superhost Status'] = segment_a_results['host_is_superhost'].map(binary_mapping)\n",
        "segment_a_results['Host Identity Verified'] = segment_a_results['host_identity_verified'].map(binary_mapping)\n",
        "segment_a_results['Instant Booking Available'] = segment_a_results['instant_bookable'].map(binary_mapping)\n"
      ]
    },
    {
      "cell_type": "code",
      "execution_count": null,
      "id": "WwwS_K1JrT5z",
      "metadata": {
        "colab": {
          "background_save": true
        },
        "id": "WwwS_K1JrT5z"
      },
      "outputs": [],
      "source": [
        "# List of binary amenity columns\n",
        "amenity_columns = [\n",
        "    'has_Smoke alarm', 'has_Wifi', 'has_Hot water',\n",
        "    'has_Kitchen', 'has_Essentials', 'has_Dishes and silverware',\n",
        "    'has_Bed linens', 'has_Hair dryer', 'has_Refrigerator', 'has_Hangers',\n",
        "    'has_Iron', 'has_Cooking basics', 'has_Carbon monoxide alarm',\n",
        "    'has_Dedicated workspace', 'has_Hot water kettle', 'has_Shampoo',\n",
        "    'has_Dishwasher', 'has_Wine glasses', 'has_Heating', 'has_Dining table'\n",
        "]\n",
        "\n",
        "# Replace 1 -> 'Yes' and 0 -> 'No' for each\n",
        "for col in amenity_columns:\n",
        "    segment_a_results[col] = segment_a_results[col].map({1: 'Yes', 0: 'No'})\n"
      ]
    },
    {
      "cell_type": "code",
      "execution_count": null,
      "id": "ZzfPTEr1u6ft",
      "metadata": {
        "colab": {
          "background_save": true
        },
        "id": "ZzfPTEr1u6ft"
      },
      "outputs": [],
      "source": [
        "segment_a_results.columns\n"
      ]
    },
    {
      "cell_type": "markdown",
      "id": "gyOaIyqZg5mI",
      "metadata": {
        "id": "gyOaIyqZg5mI"
      },
      "source": [
        "### Preparing the dataset for Power BI"
      ]
    },
    {
      "cell_type": "code",
      "execution_count": null,
      "id": "ByJiGHLjfsyh",
      "metadata": {
        "colab": {
          "background_save": true
        },
        "id": "ByJiGHLjfsyh"
      },
      "outputs": [],
      "source": [
        "# Save to CSV\n",
        "segment_a_results.to_csv('SegmentA_Predictions_updated.csv', index=False)\n"
      ]
    },
    {
      "cell_type": "code",
      "execution_count": null,
      "id": "LEsMk16sfvkJ",
      "metadata": {
        "colab": {
          "background_save": true
        },
        "id": "LEsMk16sfvkJ"
      },
      "outputs": [],
      "source": [
        "from google.colab import files\n",
        "files.download('SegmentA_Predictions_updated.csv')\n"
      ]
    }
  ],
  "metadata": {
    "colab": {
      "collapsed_sections": [
        "U-5cbTAiPOjg",
        "u0-IBJPAPl0w",
        "La1PNT2eP2Co"
      ],
      "provenance": [],
      "include_colab_link": true
    },
    "kernelspec": {
      "display_name": "Python [conda env:base] *",
      "language": "python",
      "name": "conda-base-py"
    },
    "language_info": {
      "codemirror_mode": {
        "name": "ipython",
        "version": 3
      },
      "file_extension": ".py",
      "mimetype": "text/x-python",
      "name": "python",
      "nbconvert_exporter": "python",
      "pygments_lexer": "ipython3",
      "version": "3.12.7"
    }
  },
  "nbformat": 4,
  "nbformat_minor": 5
}